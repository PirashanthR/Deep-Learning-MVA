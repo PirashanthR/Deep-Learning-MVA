{
 "cells": [
  {
   "cell_type": "markdown",
   "metadata": {},
   "source": [
    "**You may need to install [OpenCV](https://pypi.python.org/pypi/opencv-python) and [scikit-video](http://www.scikit-video.org/stable/).**"
   ]
  },
  {
   "cell_type": "code",
   "execution_count": 1,
   "metadata": {},
   "outputs": [
    {
     "name": "stderr",
     "output_type": "stream",
     "text": [
      "Using TensorFlow backend.\n"
     ]
    }
   ],
   "source": [
    "import keras\n",
    "import numpy as np\n",
    "import io\n",
    "import base64\n",
    "from IPython.display import HTML\n",
    "import skvideo.io\n",
    "import cv2\n",
    "import json\n",
    "\n",
    "from keras.models import Sequential,model_from_json\n",
    "from keras.layers.core import Dense\n",
    "from keras.optimizers import sgd,Adam\n",
    "from keras.layers import Conv2D, MaxPooling2D, Activation, AveragePooling2D,Reshape,BatchNormalization,Flatten"
   ]
  },
  {
   "cell_type": "markdown",
   "metadata": {},
   "source": [
    "# MiniProject #3: Deep Reinforcement Learning \n",
    "\n",
    "# Pirashanth RATNAMOGAN - MVA 2018"
   ]
  },
  {
   "cell_type": "markdown",
   "metadata": {},
   "source": [
    "__Notations__: $E_p$ is the expectation under probability $p$. Please justify each of your answer and widely comment your code."
   ]
  },
  {
   "cell_type": "markdown",
   "metadata": {},
   "source": [
    "# Context"
   ]
  },
  {
   "cell_type": "markdown",
   "metadata": {},
   "source": [
    "In a reinforcement learning algorithm, we modelize each step $t$ as an action $a_t$ obtained from a state $s_t$, i.e. $\\{(a_{t},s_{t})_{t\\leq T}\\}$ having the Markov property. We consider a discount factor $\\gamma \\in [0,1]$ that ensures convergence. The goal is to find among all the policies $\\pi$, one that maximizes the expected reward:\n",
    "\n",
    "\\begin{equation*}\n",
    "R(\\pi)=\\sum_{t\\leq T}E_{p^{\\pi}}[\\gamma^t r(s_{t},a_{t})] \\> ,\n",
    "\\end{equation*}\n",
    "\n",
    "where: \n",
    "\\begin{equation*}p^{\\pi}(a_{0},a_{1},s_{1},...,a_{T},s_{T})=p(a_{0})\\prod_{t=1}^{T}\\pi(a_{t}|s_{t})p(s_{t+1}|s_{t},a_{t}) \\> .\n",
    "\\end{equation*}\n",
    "\n",
    "We note the $Q$-function:\n",
    "\n",
    "\\begin{equation*}Q^\\pi(s,a)=E_{p^{\\pi}}[\\sum_{t\\leq T}\\gamma^{t}r(s_{t},a_{t})|s_{0}=s,a_{0}=a] \\> .\n",
    "\\end{equation*}\n",
    "\n",
    "Thus, the optimal Q function is:\n",
    "\\begin{equation*}\n",
    "Q^*(s,a)=\\max_{\\pi}Q^\\pi(s,a) \\> .\n",
    "\\end{equation*}\n",
    "\n",
    "In this project, we will apply the deep reinforcement learning techniques to a simple game: an agent will have to learn from scratch a policy that will permit it maximizing a reward."
   ]
  },
  {
   "cell_type": "markdown",
   "metadata": {},
   "source": [
    "## The environment, the agent and the game"
   ]
  },
  {
   "cell_type": "markdown",
   "metadata": {},
   "source": [
    "### The environment"
   ]
  },
  {
   "cell_type": "markdown",
   "metadata": {},
   "source": [
    "```Environment``` is an abstract class that represents the states, rewards, and actions to obtain the new state."
   ]
  },
  {
   "cell_type": "code",
   "execution_count": 2,
   "metadata": {
    "collapsed": true
   },
   "outputs": [],
   "source": [
    "class Environment(object):\n",
    "    def __init__(self):\n",
    "        pass\n",
    "\n",
    "    def act(self, act):\n",
    "        \"\"\"\n",
    "        One can act on the environment and obtain its reaction:\n",
    "        - the new state\n",
    "        - the reward of the new state\n",
    "        - should we continue the game?\n",
    "\n",
    "        :return: state, reward, game_over\n",
    "        \"\"\"\n",
    "        pass\n",
    "\n",
    "\n",
    "    def reset(self):\n",
    "        \"\"\"\n",
    "        Reinitialize the environment to a random state and returns\n",
    "        the original state\n",
    "\n",
    "        :return: state\n",
    "        \"\"\"\n",
    "        pass\n",
    "    \n",
    "    def draw(self):\n",
    "        \"\"\"\n",
    "        Visualize in the console or graphically the current state\n",
    "        \"\"\"\n",
    "        pass"
   ]
  },
  {
   "cell_type": "markdown",
   "metadata": {},
   "source": [
    "The method ```act``` allows to act on the environment at a given state $s_t$ (stored internally), via action $a_t$. The method will return the new state $s_{t+1}$, the reward $r(s_{t},a_{t})$ and determines if $t\\leq T$ (*game_over*).\n",
    "\n",
    "The method ```reset``` simply reinitializes the environment to a random state $s_0$.\n",
    "\n",
    "The method ```draw``` displays the current state $s_t$ (this is useful to check the behavior of the Agent).\n",
    "\n",
    "We modelize $s_t$ as a tensor, while $a_t$ is an integer."
   ]
  },
  {
   "cell_type": "markdown",
   "metadata": {},
   "source": [
    "### The Agent"
   ]
  },
  {
   "cell_type": "markdown",
   "metadata": {},
   "source": [
    "The goal of the ```Agent``` is to interact with the ```Environment``` by proposing actions $a_t$ obtained from a given state $s_t$ to attempt to maximize its __reward__ $r(s_t,a_t)$. We propose the following abstract class:"
   ]
  },
  {
   "cell_type": "code",
   "execution_count": 3,
   "metadata": {
    "collapsed": true
   },
   "outputs": [],
   "source": [
    "class Agent(object):\n",
    "    def __init__(self, epsilon=0.1, n_action=4):\n",
    "        self.epsilon = epsilon\n",
    "        self.n_action = n_action\n",
    "    \n",
    "    def set_epsilon(self,e):\n",
    "        self.epsilon = e\n",
    "\n",
    "    def act(self,s,train=True):\n",
    "        \"\"\" This function should return the next action to do:\n",
    "        an integer between 0 and 4 (not included) with a random exploration of epsilon\"\"\"\n",
    "        if train:\n",
    "            if np.random.rand() <= self.epsilon:\n",
    "                a = np.random.randint(0, self.n_action, size=1)[0]\n",
    "            else:\n",
    "                a = self.learned_act(s)\n",
    "        else: # in some cases, this can improve the performance.. remove it if poor performances\n",
    "            a = self.learned_act(s)\n",
    "\n",
    "        return a\n",
    "\n",
    "    def learned_act(self,s):\n",
    "        \"\"\" Act via the policy of the agent, from a given state s\n",
    "        it proposes an action a\"\"\"\n",
    "        pass\n",
    "\n",
    "    def reinforce(self, s, n_s, a, r, game_over_):\n",
    "        \"\"\" This function is the core of the learning algorithm. \n",
    "        It takes as an input the current state s_, the next state n_s_\n",
    "        the action a_ used to move from s_ to n_s_ and the reward r_.\n",
    "        \n",
    "        Its goal is to learn a policy.\n",
    "        \"\"\"\n",
    "        pass\n",
    "\n",
    "    def save(self):\n",
    "        \"\"\" This function returns basic stats if applicable: the\n",
    "        loss and/or the model\"\"\"\n",
    "        pass\n",
    "\n",
    "    def load(self):\n",
    "        \"\"\" This function allows to restore a model\"\"\"\n",
    "        pass"
   ]
  },
  {
   "cell_type": "markdown",
   "metadata": {},
   "source": [
    "***\n",
    "__Question 1__:\n",
    "Explain the function act. Why is ```epsilon``` essential?"
   ]
  },
  {
   "cell_type": "markdown",
   "metadata": {},
   "source": [
    "This function returns what action the agent will perform knowing the current state. This choice is based on all the previous cumulated knowledge. In order to not make the actions being too biased by the past **during the training phase**, it is usual to add an exploration criteria (not act as suggested by what we have learned but act randomly). The epsilon parameter allows to control the exploration. This is the $\\epsilon$-greedy strategy. If epsilon = 0, then we will follow the action based on what we have learned only. If epsion =1, then we will act randomly at each time step. This parameter is essential and must be setted carefully.\n",
    "\n",
    "The epsilon parameter is essential: indeed we can imagine a situation with two actions,two states and a discount equals to one. Playing the first action gives a reward of 1/4 with probability one, playing the second action gives a reward of 1 with probability 1/2. With probability 1/2 we will only use the first action (if when we have played the second action we have obtained a zero) while playing always the second action would give a mean reward of 1/2 while playing always the first action would give a mean reward of 1/4. Hence it would have been a better choice to always play the second action. In order to not being biased by such situations where the past is disadvantageous for one action the epsilon parameter allows to keep letting a chance to all the actions to improve how they are perceived from our algorithm."
   ]
  },
  {
   "cell_type": "markdown",
   "metadata": {},
   "source": [
    "***\n",
    "### The Game"
   ]
  },
  {
   "cell_type": "markdown",
   "metadata": {},
   "source": [
    "The ```Agent``` and the ```Environment``` work in an interlaced way as in the following (take some time to understand this code as it is the core of the project)\n",
    "\n",
    "```python\n",
    "\n",
    "epoch = 300\n",
    "env = Environment()\n",
    "agent = Agent()\n",
    "\n",
    "\n",
    "# Number of won games\n",
    "score = 0\n",
    "loss = 0\n",
    "\n",
    "\n",
    "for e in range(epoch):\n",
    "    # At each epoch, we restart to a fresh game and get the initial state\n",
    "    state = env.reset()\n",
    "    # This assumes that the games will end\n",
    "    game_over = False\n",
    "\n",
    "    win = 0\n",
    "    lose = 0\n",
    "    \n",
    "    while not game_over:\n",
    "        # The agent performs an action\n",
    "        action = agent.act(state)\n",
    "\n",
    "        # Apply an action to the environment, get the next state, the reward\n",
    "        # and if the games end\n",
    "        prev_state = state\n",
    "        state, reward, game_over = env.act(action)\n",
    "\n",
    "        # Update the counters\n",
    "        if reward > 0:\n",
    "            win = win + reward\n",
    "        if reward < 0:\n",
    "            lose = lose -reward\n",
    "\n",
    "        # Apply the reinforcement strategy\n",
    "        loss = agent.reinforce(prev_state, state,  action, reward, game_over)\n",
    "\n",
    "    # Save as a mp4\n",
    "    if e % 10 == 0:\n",
    "        env.draw(e)\n",
    "\n",
    "    # Update stats\n",
    "    score += win-lose\n",
    "\n",
    "    print(\"Epoch {:03d}/{:03d} | Loss {:.4f} | Win/lose count {}/{} ({})\"\n",
    "          .format(e, epoch, loss, win, lose, win-lose))\n",
    "    agent.save()\n",
    "```"
   ]
  },
  {
   "cell_type": "markdown",
   "metadata": {},
   "source": [
    "# The game, *eat cheese*"
   ]
  },
  {
   "cell_type": "markdown",
   "metadata": {},
   "source": [
    "A rat runs on an island and tries to eat as much as possible. The island is subdivided into $N\\times N$ cells, in which there are cheese (+0.5) and poisonous cells (-1). The rat has a visibility of 2 cells (thus it can see $5^2$ cells). The rat is given a time $T$ to accumulate as much food as possible. It can perform 4 actions: going up, down, left, right. \n",
    "\n",
    "The goal is to code an agent to solve this task that will learn by trial and error. We propose the following environment:"
   ]
  },
  {
   "cell_type": "code",
   "execution_count": 4,
   "metadata": {
    "collapsed": true
   },
   "outputs": [],
   "source": [
    "class Environment(object):\n",
    "    def __init__(self, grid_size=10, max_time=500, temperature=0.1):\n",
    "        grid_size = grid_size+4\n",
    "        self.grid_size = grid_size\n",
    "        self.max_time = max_time\n",
    "        self.temperature = temperature\n",
    "\n",
    "        #board on which one plays\n",
    "        self.board = np.zeros((grid_size,grid_size))\n",
    "        self.position = np.zeros((grid_size,grid_size))\n",
    "\n",
    "        # coordinate of the cat\n",
    "        self.x = 0\n",
    "        self.y = 1\n",
    "\n",
    "        # self time\n",
    "        self.t = 0\n",
    "\n",
    "        self.scale=16\n",
    "\n",
    "        self.to_draw = np.zeros((max_time+2, grid_size*self.scale, grid_size*self.scale, 3))\n",
    "\n",
    "\n",
    "    def draw(self,e):\n",
    "        skvideo.io.vwrite(str(e) + '.mp4', self.to_draw)\n",
    "\n",
    "    def get_frame(self,t):\n",
    "        b = np.zeros((self.grid_size,self.grid_size,3))+128\n",
    "        b[self.board>0,0] = 256\n",
    "        b[self.board < 0, 2] = 256\n",
    "        b[self.x,self.y,:]=256\n",
    "        b[-2:,:,:]=0\n",
    "        b[:,-2:,:]=0\n",
    "        b[:2,:,:]=0\n",
    "        b[:,:2,:]=0 #Correct typo here\n",
    "        \n",
    "        b =  cv2.resize(b, None, fx=self.scale, fy=self.scale, interpolation=cv2.INTER_NEAREST)\n",
    "\n",
    "        self.to_draw[t,:,:,:]=b\n",
    "\n",
    "\n",
    "    def act(self, action):\n",
    "        \"\"\"This function returns the new state, reward and decides if the\n",
    "        game ends.\"\"\"\n",
    "\n",
    "        self.get_frame(int(self.t))\n",
    "\n",
    "        self.position = np.zeros((self.grid_size, self.grid_size))\n",
    "\n",
    "        self.position[0:2,:]= -1\n",
    "        self.position[:,0:2] = -1\n",
    "        self.position[-2:, :] = -1\n",
    "        self.position[:, -2:] = -1 #Correct typo here\n",
    "\n",
    "        self.position[self.x, self.y] = 1\n",
    "        if action == 0:\n",
    "            if self.x == self.grid_size-3:\n",
    "                self.x = self.x-1\n",
    "            else:\n",
    "                self.x = self.x + 1\n",
    "        elif action == 1:\n",
    "            if self.x == 2:\n",
    "                self.x = self.x+1\n",
    "            else:\n",
    "                self.x = self.x-1\n",
    "        elif action == 2:\n",
    "            if self.y == self.grid_size - 3:\n",
    "                self.y = self.y - 1\n",
    "            else:\n",
    "                self.y = self.y + 1\n",
    "        elif action == 3:\n",
    "            if self.y == 2:\n",
    "                self.y = self.y + 1\n",
    "            else:\n",
    "                self.y = self.y - 1\n",
    "        else:\n",
    "            RuntimeError('Error: action not recognized')\n",
    "\n",
    "        self.t = self.t + 1\n",
    "        reward = self.board[self.x, self.y]\n",
    "        self.board[self.x, self.y] = 0\n",
    "        game_over = self.t > self.max_time\n",
    "        state = np.concatenate((self.board.reshape(self.grid_size, self.grid_size,1),\n",
    "                        self.position.reshape(self.grid_size, self.grid_size,1)),axis=2)\n",
    "        state = state[self.x-2:self.x+3,self.y-2:self.y+3,:]\n",
    "\n",
    "        return state, reward, game_over\n",
    "\n",
    "    def reset(self):\n",
    "        \"\"\"This function resets the game and returns the initial state\"\"\"\n",
    "\n",
    "        self.x = np.random.randint(3, self.grid_size-3, size=1)[0]\n",
    "        self.y = np.random.randint(3, self.grid_size-3, size=1)[0]\n",
    "\n",
    "\n",
    "        bonus = 0.5*np.random.binomial(1,self.temperature,size=self.grid_size**2)\n",
    "        bonus = bonus.reshape(self.grid_size,self.grid_size)\n",
    "\n",
    "        malus = -1.0*np.random.binomial(1,self.temperature,size=self.grid_size**2)\n",
    "        malus = malus.reshape(self.grid_size, self.grid_size)\n",
    "\n",
    "        self.to_draw = np.zeros((self.max_time+2, self.grid_size*self.scale, self.grid_size*self.scale, 3))\n",
    "\n",
    "\n",
    "        malus[bonus>0]=0\n",
    "\n",
    "        self.board = bonus + malus\n",
    "\n",
    "        self.position = np.zeros((self.grid_size, self.grid_size))\n",
    "        self.position[0:2,:]= -1\n",
    "        self.position[:,0:2] = -1\n",
    "        self.position[-2:, :] = -1\n",
    "        self.position[:,-2:] = -1\n",
    "        self.board[self.x,self.y] = 0\n",
    "        self.t = 0\n",
    "\n",
    "        state = np.concatenate((\n",
    "                               self.board.reshape(self.grid_size, self.grid_size,1),\n",
    "                        self.position.reshape(self.grid_size, self.grid_size,1)),axis=2)\n",
    "\n",
    "        state = state[self.x - 2:self.x + 3, self.y - 2:self.y + 3, :]\n",
    "        return state"
   ]
  },
  {
   "cell_type": "markdown",
   "metadata": {},
   "source": [
    "The following elements are important because they correspond to the hyper parameters for this project:"
   ]
  },
  {
   "cell_type": "code",
   "execution_count": 5,
   "metadata": {
    "collapsed": true
   },
   "outputs": [],
   "source": [
    "# parameters\n",
    "size = 13\n",
    "T=200\n",
    "temperature=0.3\n",
    "epochs_train=50 # set small when debugging\n",
    "epochs_test=11 # set small when debugging\n",
    "\n",
    "# display videos\n",
    "def display_videos(name):\n",
    "    video = io.open(name, 'r+b').read()\n",
    "    encoded = base64.b64encode(video)\n",
    "    return '''<video alt=\"test\" controls>\n",
    "                <source src=\"data:video/mp4;base64,{0}\" type=\"video/mp4\" />\n",
    "             </video>'''.format(encoded.decode('ascii'))"
   ]
  },
  {
   "cell_type": "markdown",
   "metadata": {},
   "source": [
    "__Question 2__ Explain the use of the arrays ```position``` and ```board```."
   ]
  },
  {
   "cell_type": "markdown",
   "metadata": {},
   "source": [
    "The position array contains an array representing where the rat can go. It has -1 in the boundaries where we can't go, 0 where we can actually go and finally 1 in the position where the rat is.\n",
    "The board represent the reward associated to each cell of the grid. If our rat comes to the position $(x,y)$ it will get the reward board[x,y]."
   ]
  },
  {
   "cell_type": "markdown",
   "metadata": {},
   "source": [
    "## Random Agent"
   ]
  },
  {
   "cell_type": "markdown",
   "metadata": {},
   "source": [
    "***\n",
    "__Question 3__ Implement a random Agent (only ```learned_act``` needs to be implemented):"
   ]
  },
  {
   "cell_type": "code",
   "execution_count": 6,
   "metadata": {
    "collapsed": true
   },
   "outputs": [],
   "source": [
    "class RandomAgent(Agent):\n",
    "    def __init__(self):\n",
    "        super(RandomAgent, self).__init__()\n",
    "        pass\n",
    "\n",
    "    def learned_act(self, s):\n",
    "        a = np.random.randint(0, self.n_action, size=1)[0]\n",
    "        return a"
   ]
  },
  {
   "cell_type": "markdown",
   "metadata": {},
   "source": [
    "***\n",
    "***\n",
    "__Question 4__ Visualize the game moves. You need to fill in the following function for the evaluation:"
   ]
  },
  {
   "cell_type": "code",
   "execution_count": 7,
   "metadata": {
    "collapsed": true
   },
   "outputs": [],
   "source": [
    "def test(agent,env,epochs,prefix=''):\n",
    "    # Number of won games\n",
    "    score = 0\n",
    " \n",
    "    for e in range(epochs):\n",
    "        \n",
    "        state = env.reset()\n",
    "        # This assumes that the games will end\n",
    "        game_over = False\n",
    "\n",
    "        win = 0\n",
    "        lose = 0\n",
    "        \n",
    "        \n",
    "        while not game_over:\n",
    "            \n",
    "            action = agent.act(state,train=False) #this is the main point, during the test phase we don't have to use the epsilon greedy approach\n",
    "            \n",
    "            prev_state= state\n",
    "            state,reward,game_over = env.act(action)\n",
    "            if reward >0:\n",
    "                win = win +reward \n",
    "            if reward < 0:\n",
    "                lose = lose-reward\n",
    "                \n",
    "        # Save as a mp4\n",
    "        env.draw(prefix+str(e))\n",
    "\n",
    "        # Update stats\n",
    "        score = score + win-lose\n",
    "\n",
    "        print(\"Win/lose count {}/{}. Average score ({})\"\n",
    "              .format(win, lose, score/(1+e)))\n",
    "    print('Final score: '+str(score/epochs))"
   ]
  },
  {
   "cell_type": "code",
   "execution_count": 10,
   "metadata": {},
   "outputs": [
    {
     "name": "stdout",
     "output_type": "stream",
     "text": [
      "Win/lose count 12.0/13.0. Average score (-1.0)\n",
      "Win/lose count 11.0/13.0. Average score (-1.5)\n",
      "Win/lose count 13.5/21.0. Average score (-3.5)\n",
      "Win/lose count 12.0/12.0. Average score (-2.625)\n",
      "Win/lose count 10.0/21.0. Average score (-4.3)\n",
      "Win/lose count 8.5/7.0. Average score (-3.3333333333333335)\n",
      "Win/lose count 12.0/15.0. Average score (-3.2857142857142856)\n",
      "Win/lose count 15.0/16.0. Average score (-3.0)\n",
      "Win/lose count 8.5/9.0. Average score (-2.7222222222222223)\n",
      "Win/lose count 7.5/20.0. Average score (-3.7)\n",
      "Win/lose count 12.0/18.0. Average score (-3.909090909090909)\n",
      "Final score: -3.90909090909\n"
     ]
    },
    {
     "data": {
      "text/html": [
       "<video alt=\"test\" controls>\n",
       "                <source src=\"data:video/mp4;base64,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\" type=\"video/mp4\" />\n",
       "             </video>"
      ],
      "text/plain": [
       "<IPython.core.display.HTML object>"
      ]
     },
     "execution_count": 10,
     "metadata": {},
     "output_type": "execute_result"
    }
   ],
   "source": [
    "# Initialize the game\n",
    "env = Environment(grid_size=size, max_time=T,temperature=temperature)\n",
    "\n",
    "# Initialize the agent!\n",
    "agent = RandomAgent()\n",
    "\n",
    "test(agent,env,epochs_test,prefix='random')\n",
    "HTML(display_videos('random5.mp4'))"
   ]
  },
  {
   "cell_type": "markdown",
   "metadata": {},
   "source": [
    "***\n",
    "## DQN"
   ]
  },
  {
   "cell_type": "markdown",
   "metadata": {},
   "source": [
    "Let us assume here that $T=\\infty$.\n",
    "\n",
    "***\n",
    "__Question 5__ Let $\\pi$ be a policy, show that:\n",
    "\n",
    "\\begin{equation*}\n",
    "Q^{\\pi}(s,a)=E_{(s',a')\\sim p(.|s,a)}[r(s,a)+\\gamma Q^{\\pi}(s',a')]\n",
    "\\end{equation*}\n",
    "\n",
    "Then, show that for the optimal policy $\\pi^*$ (we assume its existence), the following holds: \n",
    "\n",
    "\\begin{equation*}\n",
    "Q^{*}(s,a)=E_{s'\\sim \\pi^*(.|s,a)}[r(s,a)+\\gamma\\max_{a'}Q^{*}(s',a')].\n",
    "\\end{equation*}\n",
    "Finally, deduce that a plausible objective is:\n",
    "\n",
    "\\begin{equation*}\n",
    "\\mathcal{L}(\\theta)=E_{s' \\sim \\pi^*(.|s,a)}\\Vert r+\\gamma\\max\\max_{a'}Q(s',a',\\theta)-Q(s,a,\\theta)\\Vert^{2}.\n",
    "\\end{equation*}\n",
    "\n",
    "\n"
   ]
  },
  {
   "cell_type": "markdown",
   "metadata": {},
   "source": [
    "# Answer\n",
    "\n",
    "As seen in class we have \n",
    "\n",
    "\\begin{align}\n",
    "Q^{\\pi}(s,a)&=E[ \\sum_{k=0}^{\\infty} \\gamma^k r_{t+k}|s_t = s, a_t = a] \\\\\n",
    "& = E[ r(s,a) + \\sum_{k=1}^{\\infty} \\gamma^k r_{t+k}|s_t = s, a_t = a] \\\\\n",
    "& =  r(s,a) + \\gamma E[E[\\sum_{k=0}^{\\infty}[\\gamma^k r_{t+1+k}|s_{t+1}=s',a_{t+1}=a']|s_t = s, a_t = a] \\\\\n",
    "& =  r(s,a) + \\gamma \\sum_{(s',a')}(p(s_{t+1}=s',a_{t+1}=a' |s_t = s, a_t = a )[E[\\sum_{k=0}^{\\infty}\\gamma^k r_{t+1+k}|s_{t+1}=s',a_{t+1}=a']\\\\\n",
    "& =  \\sum_{(s',a')} (p(s_{t+1}=s',a_{t+1}=a' |s_t = s, a_t = a ) r(s,a) + \\gamma \\sum_{(s',a')}(p(s_{t+1}=s',a_{t+1}=a' |s_t = s, a_t = a )E[\\sum_{k=0}^{\\infty}\\gamma^k r_{t+1+k}|s_{t+1}=s',a_{t+1}=a']\\\\\n",
    "&=E_{(s',a')\\sim p(.|s,a)}[r(s,a)+\\gamma Q^{\\pi}(s',a')]\n",
    "\\end{align}\n",
    "\n",
    "Then we have:\n",
    "\n",
    "\\begin{align}\n",
    "Q^{*}(s,a) &= \\max_{\\pi}E_{(s',a')\\sim p(.|s,a)}[r(s,a)+\\gamma Q^{\\pi}(s',a')] \\\\\n",
    "&= \\max_{\\pi}r(s,a) + \\gamma \\sum(p(s_{t+1}=s' |s_t = s, a_t = a )Q^{\\pi}(s',a')\\\\\n",
    "&= r(s,a) + \\gamma \\max_{\\pi} \\sum(p(s_{t+1}=s' |s_t = s, a_t = a )Q^{\\pi'}(s',a') \\qquad \\text{with } \\pi=(a',\\pi')\n",
    "\\end{align}\n",
    "\n",
    "In order to exchange the maximum and the sum one has to remark the following:\n",
    "We have first the trivial inequality\n",
    "\n",
    "\\begin{equation*}\n",
    "\\max_{\\pi} \\sum_{(s')} p(s_{t+1}=s' |s_t = s, a_t = a )Q^{\\pi'}(s',a') \\leq \\sum_{(s',a')} p(s_{t+1}=s' |s_t = s, a_t = a ) \\max_{\\pi}Q^{\\pi'}(s',a') \n",
    "\\end{equation*}\n",
    "\n",
    "Then we have considering $\\hat{\\pi}(s',a') = \\arg\\max_{\\pi'} Q^{\\pi'}(s',a')$\n",
    "\\begin{align*}\n",
    " \\sum_{(s'} p(s_{t+1}=s'|s_t = s, a_t = a ) \\max_{\\pi'}Q^{\\pi'}(s',a') &= \\sum_{(s')} p(s_{t+1}=s' |s_t = s, a_t = a ) Q^{\\hat{\\pi}(s',a')}(s',a') \\\\\n",
    " &\\leq \\max_{\\pi'} \\sum_{s'} p(s_{t+1}=s' |s_t = s, a_t = a )Q^{\\pi'}(s',a') \n",
    "\\end{align*}\n",
    "\n",
    "So we can rewrite our initial equation as :\n",
    "\\begin{align}\n",
    "Q^{*}(s,a)&= r(s,a) + \\gamma  \\sum(p(s_{t+1}=s' |s_t = s, a_t = a )\\max_{a'}\\max_{\\pi'}Q^{\\pi'}(s',a') \\\\\n",
    "&= r(s,a) + \\gamma \\sum(p(s_{t+1}=s' |s_t = s, a_t = a )\\max_{a'} Q^{*}(s',a') \\\\ \n",
    "&=E_{s'\\sim \\pi^*(.|s,a)}[r(s,a)+\\gamma\\max_{a'}Q^{*}(s',a')].\n",
    "\\end{align}\n",
    "\n",
    "The proposed objective function \n",
    "\n",
    "\\begin{equation*}\n",
    "\\mathcal{L}(\\theta)=E_{s' \\sim \\pi^*(.|s,a)}\\Vert r+\\gamma\\max_{a'}Q(s',a',\\theta)-Q(s,a,\\theta)\\Vert^{2}.\n",
    "\\end{equation*}\n",
    "\n",
    "Allows to enforce the previous equality, if our neural network perfectly converge this equality must be true. Using this loss function we try to enforce our learned Q-value to verify the Bellman equation."
   ]
  },
  {
   "cell_type": "markdown",
   "metadata": {},
   "source": [
    "***\n",
    "The DQN-learning algorithm relies on these derivations to train the parameters $\\theta$ of a Deep Neural Network:\n",
    "\n",
    "1. At the state $s_t$, select the action $a_t$ with best reward using $Q_t$ and store the results;\n",
    "\n",
    "2. Obtain the new state $s_{t+1}$ from the environment $p$;\n",
    "\n",
    "3. Store $(s_t,a_t,s_{t+1})$;\n",
    "\n",
    "4. Obtain $Q_{t+1}$ by minimizing  $\\mathcal{L}$ from a recovered batch from the previously stored results.\n",
    "\n",
    "***\n",
    "__Question 6__ Implement the class ```Memory``` that stores moves (in a replay buffer) via ```remember``` and provides a ```random_access``` to these. Specify a maximum memory size to avoid side effects. You can for example use a ```list()``` and set by default ```max_memory=100```."
   ]
  },
  {
   "cell_type": "code",
   "execution_count": 15,
   "metadata": {
    "collapsed": true
   },
   "outputs": [],
   "source": [
    "class Memory(object):\n",
    "    def __init__(self, max_memory=100):\n",
    "        self.max_memory = max_memory\n",
    "        self.memory = list()\n",
    "\n",
    "    def remember(self, m):\n",
    "        self.memory.append(m)\n",
    "        if len(self.memory)>self.max_memory:\n",
    "            del self.memory[0]\n",
    "            \n",
    "\n",
    "    def random_access(self):\n",
    "        i = np.random.randint(0, len(self.memory), size=1)[0]\n",
    "        return self.memory[i]"
   ]
  },
  {
   "cell_type": "markdown",
   "metadata": {},
   "source": [
    "***\n",
    "The pipeline we will use for training is given below:"
   ]
  },
  {
   "cell_type": "code",
   "execution_count": 16,
   "metadata": {
    "collapsed": true
   },
   "outputs": [],
   "source": [
    "def train(agent,env,epoch,prefix=''):\n",
    "    # Number of won games\n",
    "    score = 0\n",
    "    loss = 0\n",
    "\n",
    "    for e in range(epoch):\n",
    "        # At each epoch, we restart to a fresh game and get the initial state\n",
    "        state = env.reset()\n",
    "        # This assumes that the games will terminate\n",
    "        game_over = False\n",
    "\n",
    "        win = 0\n",
    "        lose = 0\n",
    "\n",
    "        while not game_over:\n",
    "            # The agent performs an action\n",
    "            action = agent.act(state)\n",
    "\n",
    "            # Apply an action to the environment, get the next state, the reward\n",
    "            # and if the games end\n",
    "            prev_state = state\n",
    "            state, reward, game_over = env.act(action)\n",
    "\n",
    "            # Update the counters\n",
    "            if reward > 0:\n",
    "                win = win + reward\n",
    "            if reward < 0:\n",
    "                lose = lose -reward\n",
    "\n",
    "            # Apply the reinforcement strategy\n",
    "            loss = agent.reinforce(prev_state, state,  action, reward, game_over)\n",
    "\n",
    "        # Save as a mp4\n",
    "        if e % 10 == 0:\n",
    "            env.draw(prefix+str(e))\n",
    "\n",
    "        # Update stats\n",
    "        score += win-lose\n",
    "\n",
    "        print(\"Epoch {:03d}/{:03d} | Loss {:.4f} | Win/lose count {}/{} ({})\"\n",
    "              .format(e, epoch, loss, win, lose, win-lose))\n",
    "        agent.save(name_weights=prefix+'model.h5',name_model=prefix+'model.json')"
   ]
  },
  {
   "cell_type": "markdown",
   "metadata": {},
   "source": [
    "***\n",
    "__Question 7__ Implement the DQN training algorithm using a cascade of fully connected layers. You can use different learning rate, batch size or memory size parameters. In particular, the loss might oscillate while the player will start to win the games. You have to find a good criterium."
   ]
  },
  {
   "cell_type": "code",
   "execution_count": 11,
   "metadata": {
    "collapsed": true
   },
   "outputs": [],
   "source": [
    "class DQN(Agent):\n",
    "    def __init__(self, grid_size,  epsilon = 0.1, memory_size=100, batch_size = 16,n_state=2):\n",
    "        super(DQN, self).__init__(epsilon = epsilon)\n",
    "\n",
    "        # Discount for Q learning\n",
    "        self.discount = 0.99\n",
    "        \n",
    "        self.grid_size = grid_size\n",
    "        \n",
    "        # number of state\n",
    "        self.n_state = n_state\n",
    "\n",
    "        # Memory\n",
    "        self.memory = Memory(memory_size)\n",
    "        \n",
    "        # Batch size when learning\n",
    "        self.batch_size = batch_size\n",
    "\n",
    "    def learned_act(self, s):\n",
    "        return np.argmax(self.model.predict(s.reshape([1,s.shape[0],s.shape[1],s.shape[2]]))[0,:])\n",
    "\n",
    "    def reinforce(self, s_, n_s_, a_, r_, game_over_):\n",
    "        # Two steps: first memorize the states, second learn from the pool\n",
    "        self.memory.remember([s_, n_s_, a_, r_, game_over_])\n",
    "        input_states = np.zeros((self.batch_size, 5,5,self.n_state))\n",
    "        target_q = np.zeros((self.batch_size, 4))\n",
    "        \n",
    "        for i in range(self.batch_size):\n",
    "            s_, n_s_, a_, r_, game_over_  = self.memory.random_access()\n",
    "            \n",
    "            target_q[i] =self.model.predict(s_.reshape([1,s_.shape[0],s_.shape[1],s_.shape[2]]))[0]\n",
    "            # We will only try to improve the prediction where we actually have a new information\n",
    "            #that means that when we have no information we will keep the previous prediction of the  network\n",
    "            if game_over_:\n",
    "                input_states[i] = s_\n",
    "                target_q[i,a_] = r_\n",
    "            else:\n",
    "                input_states[i] = s_\n",
    "                target_q[i,a_] = r_  + self.discount*max(self.model.predict(n_s_.reshape([1,s_.shape[0],s_.shape[1],s_.shape[2]]))[0])\n",
    "        # HINT: Clip the target to avoid exploiding gradients.. -- clipping is a bit tighter\n",
    "        target_q = np.clip(target_q, -3, 3)\n",
    "        l = self.model.train_on_batch(input_states, target_q)\n",
    "\n",
    "\n",
    "        return l\n",
    "\n",
    "    def save(self,name_weights='model.h5',name_model='model.json'):\n",
    "        self.model.save_weights(name_weights, overwrite=True)\n",
    "        with open(name_model, \"w\") as outfile:\n",
    "            json.dump(self.model.to_json(), outfile)\n",
    "            \n",
    "    def load(self,name_weights='model.h5',name_model='model.json'):\n",
    "        with open(name_model, \"r\") as jfile:\n",
    "            model = model_from_json(json.load(jfile))\n",
    "        model.load_weights(name_weights)\n",
    "        model.compile(\"sgd\", \"mse\")\n",
    "        self.model = model\n",
    "            \n",
    "class DQN_FC(DQN):\n",
    "    def __init__(self, *args, lr=0.1,**kwargs):\n",
    "        super(DQN_FC, self).__init__( *args,**kwargs)\n",
    "        \n",
    "        # NN Model\n",
    "        model = Sequential()\n",
    "        model.add(Flatten(input_shape=(5,5,self.n_state,)))\n",
    "        model.add(Dense(30,activation ='relu')) #simple one hidden layer network (see performance of other methods below)\n",
    "        model.add(Dense(4))\n",
    "        model.compile(sgd(lr=lr, decay=1e-4, momentum=0.0), \"mse\")\n",
    "        self.model = model"
   ]
  },
  {
   "cell_type": "code",
   "execution_count": 110,
   "metadata": {},
   "outputs": [
    {
     "name": "stdout",
     "output_type": "stream",
     "text": [
      "Epoch 000/050 | Loss 0.0069 | Win/lose count 2.0/3.0 (-1.0)\n",
      "Epoch 001/050 | Loss 0.0283 | Win/lose count 8.5/9.0 (-0.5)\n",
      "Epoch 002/050 | Loss 0.0091 | Win/lose count 7.5/4.0 (3.5)\n",
      "Epoch 003/050 | Loss 0.0138 | Win/lose count 1.5/2.0 (-0.5)\n",
      "Epoch 004/050 | Loss 0.0114 | Win/lose count 3.5/3.0 (0.5)\n",
      "Epoch 005/050 | Loss 0.0117 | Win/lose count 0.5/0 (0.5)\n",
      "Epoch 006/050 | Loss 0.0527 | Win/lose count 9.5/10.0 (-0.5)\n",
      "Epoch 007/050 | Loss 0.0087 | Win/lose count 1.5/6.0 (-4.5)\n",
      "Epoch 008/050 | Loss 0.0092 | Win/lose count 0.5/2.0 (-1.5)\n",
      "Epoch 009/050 | Loss 0.0044 | Win/lose count 2.0/0 (2.0)\n",
      "Epoch 010/050 | Loss 0.0617 | Win/lose count 2.0/3.0 (-1.0)\n",
      "Epoch 011/050 | Loss 0.0037 | Win/lose count 7.0/6.0 (1.0)\n",
      "Epoch 012/050 | Loss 0.0097 | Win/lose count 2.5/1.0 (1.5)\n",
      "Epoch 013/050 | Loss 0.0149 | Win/lose count 7.0/1.0 (6.0)\n",
      "Epoch 014/050 | Loss 0.0623 | Win/lose count 3.0/9.0 (-6.0)\n",
      "Epoch 015/050 | Loss 0.0105 | Win/lose count 2.0/2.0 (0.0)\n",
      "Epoch 016/050 | Loss 0.0043 | Win/lose count 3.0/1.0 (2.0)\n",
      "Epoch 017/050 | Loss 0.0031 | Win/lose count 8.0/4.0 (4.0)\n",
      "Epoch 018/050 | Loss 0.0035 | Win/lose count 6.0/5.0 (1.0)\n",
      "Epoch 019/050 | Loss 0.0051 | Win/lose count 2.0/1.0 (1.0)\n",
      "Epoch 020/050 | Loss 0.0542 | Win/lose count 9.0/3.0 (6.0)\n",
      "Epoch 021/050 | Loss 0.0050 | Win/lose count 7.5/6.0 (1.5)\n",
      "Epoch 022/050 | Loss 0.0067 | Win/lose count 12.5/4.0 (8.5)\n",
      "Epoch 023/050 | Loss 0.0045 | Win/lose count 3.0/2.0 (1.0)\n",
      "Epoch 024/050 | Loss 0.0028 | Win/lose count 8.5/3.0 (5.5)\n",
      "Epoch 025/050 | Loss 0.0029 | Win/lose count 2.0/3.0 (-1.0)\n",
      "Epoch 026/050 | Loss 0.0024 | Win/lose count 11.5/2.0 (9.5)\n",
      "Epoch 027/050 | Loss 0.0474 | Win/lose count 4.0/4.0 (0.0)\n",
      "Epoch 028/050 | Loss 0.0024 | Win/lose count 2.5/1.0 (1.5)\n",
      "Epoch 029/050 | Loss 0.0163 | Win/lose count 4.5/3.0 (1.5)\n",
      "Epoch 030/050 | Loss 0.0038 | Win/lose count 10.0/1.0 (9.0)\n",
      "Epoch 031/050 | Loss 0.0018 | Win/lose count 6.5/6.0 (0.5)\n",
      "Epoch 032/050 | Loss 0.0086 | Win/lose count 15.5/5.0 (10.5)\n",
      "Epoch 033/050 | Loss 0.0045 | Win/lose count 10.0/0 (10.0)\n",
      "Epoch 034/050 | Loss 0.0015 | Win/lose count 7.5/2.0 (5.5)\n",
      "Epoch 035/050 | Loss 0.0596 | Win/lose count 12.5/2.0 (10.5)\n",
      "Epoch 036/050 | Loss 0.0037 | Win/lose count 16.0/2.0 (14.0)\n",
      "Epoch 037/050 | Loss 0.0029 | Win/lose count 8.0/0 (8.0)\n",
      "Epoch 038/050 | Loss 0.0034 | Win/lose count 15.5/3.0 (12.5)\n",
      "Epoch 039/050 | Loss 0.0096 | Win/lose count 10.0/6.0 (4.0)\n",
      "Epoch 040/050 | Loss 0.0038 | Win/lose count 15.5/1.0 (14.5)\n",
      "Epoch 041/050 | Loss 0.0061 | Win/lose count 5.5/3.0 (2.5)\n",
      "Epoch 042/050 | Loss 0.0088 | Win/lose count 14.0/1.0 (13.0)\n",
      "Epoch 043/050 | Loss 0.0054 | Win/lose count 6.5/3.0 (3.5)\n",
      "Epoch 044/050 | Loss 0.0049 | Win/lose count 4.5/2.0 (2.5)\n",
      "Epoch 045/050 | Loss 0.0065 | Win/lose count 17.5/7.0 (10.5)\n",
      "Epoch 046/050 | Loss 0.0532 | Win/lose count 12.5/4.0 (8.5)\n",
      "Epoch 047/050 | Loss 0.0089 | Win/lose count 19.5/2.0 (17.5)\n",
      "Epoch 048/050 | Loss 0.0058 | Win/lose count 10.0/2.0 (8.0)\n",
      "Epoch 049/050 | Loss 0.0045 | Win/lose count 14.5/1.0 (13.5)\n"
     ]
    },
    {
     "data": {
      "text/html": [
       "<video alt=\"test\" controls>\n",
       "                <source src=\"data:video/mp4;base64,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\" type=\"video/mp4\" />\n",
       "             </video>"
      ],
      "text/plain": [
       "<IPython.core.display.HTML object>"
      ]
     },
     "execution_count": 110,
     "metadata": {},
     "output_type": "execute_result"
    }
   ],
   "source": [
    "epochs_train = 50 #I have used epochs train and epochs test equals to 50 in the two questions below\n",
    "env = Environment(grid_size=size, max_time=T, temperature=0.3)\n",
    "agent = DQN_FC(size, lr=.1, epsilon = 0.1, memory_size=2000, batch_size = 32)\n",
    "train(agent, env, epochs_train, prefix='fc_train')\n",
    "HTML(display_videos('fc_train10.mp4'))"
   ]
  },
  {
   "cell_type": "markdown",
   "metadata": {},
   "source": [
    "# Comparison of various deep neural network architectures (fully connected) and various parameters\n",
    "\n",
    "I tried 6 different architectures (the size of the neurons doesn't seems to play an important role so I have decided to keep them to a constant size of 30):\n",
    "* Architecture 1 - 1 hidden layers with output of size 30\n",
    "* Architecture 2 - 1 hidden layers with output of size 30 and batchnormalization in between them\n",
    "* Architecture 3 - 2 hidden layers with output of size 30\n",
    "* Architecture 4 - 2 hidden layers with output of size 30 and batchnormalization in between them\n",
    "* Architecture 5 - 3 hidden layers with output of size 30 \n",
    "* Architecture 6 - 3 hidden layers with output of size 30 and batchnormalization in between them\n",
    "\n",
    "There is some stochasticity in the problem however the printed score represents the mean outcome over 50 tests.\n",
    "I tried to play with the learning rate and the epsilon parameter that seems to both play an important role. I could have also tried various optimizers, batch size and memory size but those parameters seems to have a lower importance and the following table would have been too long. I could have also tried various regularization technics such as Dropout and try various clipping parameters...\n",
    "\n",
    "\n",
    "\n",
    "\n",
    "| Architecture       |     Epochs Train    |        Epsilon | Learning Rate | Batch size|Memory size| Final Test Score (Average over 50 epochs)\n",
    "| :------------ | :-------------: | -------------: | -------------: |-------------: |-------------: |-------------: |\n",
    "| 1       |     50      |         0.5 |0.1 |32 |2000 |2.55 |\n",
    "| 2   |   50      |         0.5 |0.1 |32 |2000 |1.45 |\n",
    "| 3       |     50      |         0.5 |0.1 |32 |2000 |2.21 |\n",
    "| 4       |      50      |         0.5 |0.1 |32 |2000 |1.35  |\n",
    "| 5     |      50      |         0.5 |0.1 |32 |2000 |2.625 |\n",
    "| 6     |     50      |         0.5 |0.1 |32 |2000 |0.39|\n",
    "| 1       |     50      |         0.5 |0.5 |32 |2000  | 2.21 |\n",
    "| 2   |   50      |         0.5 |0.5 |32 |2000  | 1.6 |\n",
    "| 3       |       50      |         0.5 |0.5 |32 |2000  |-0.62 |\n",
    "| 4       |      50      |         0.5 |0.5 |32 |2000  | -0.76 |\n",
    "| 5     |     50      |         0.5 |0.5 |32 |2000  | 1.16 |\n",
    "| 6     |     50      |         0.5 |0.5 |32 |2000  | -0.28 |\n",
    "|** 1  **     |     ** 50   **   |       **  0.1 **|**0.1** |**32** |**2000**  |**3.01** |\n",
    "| 2   |  50      |         0.1 |0.1 |32 |2000  | 2.71 |\n",
    "| 3       |      50      |         0.1 |0.1 |32 |2000  |1.6 |\n",
    "| 4       |      50      |         0.1 |0.1 |32 |2000  |0.28 |\n",
    "| 5     |     50      |         0.1 |0.1 |32 |2000  |2.32 |\n",
    "| 6     |      50      |         0.1 |0.1 |32 |2000  |-0.47|\n",
    "\n",
    "As one can see, in our test we have obtained the best outcome using a simple network with only one hidden layer. From our test it seems to be a bad idea to set the learning rate too high and to use some BatchNormalization layers that are not adapted for the Deep Reinforcement learning task."
   ]
  },
  {
   "cell_type": "markdown",
   "metadata": {},
   "source": [
    "***\n",
    "***\n",
    "__Question 8__ Implement the DQN training algorithm using a CNN (for example, 2 convolutional layers and one final fully connected layer)."
   ]
  },
  {
   "cell_type": "code",
   "execution_count": 12,
   "metadata": {
    "collapsed": true
   },
   "outputs": [],
   "source": [
    "class DQN_CNN(DQN):\n",
    "    def __init__(self, *args,lr=0.1,**kwargs):\n",
    "        super(DQN_CNN, self).__init__(*args,**kwargs)\n",
    "        \n",
    "        model = Sequential()\n",
    "        model.add(Conv2D(50,(2,2),input_shape=(5,5,self.n_state,),activation='relu'))\n",
    "        model.add(Conv2D(30,(2,2),activation='relu'))\n",
    "        model.add(Flatten())\n",
    "        model.add(Dense(4))\n",
    "        model.compile(sgd(lr=lr, decay=1e-4, momentum=0.0), \"mse\")\n",
    "        self.model = model\n",
    "        "
   ]
  },
  {
   "cell_type": "code",
   "execution_count": 112,
   "metadata": {},
   "outputs": [
    {
     "name": "stdout",
     "output_type": "stream",
     "text": [
      "Epoch 000/050 | Loss 0.0026 | Win/lose count 6.5/3.0 (3.5)\n",
      "Epoch 001/050 | Loss 0.0013 | Win/lose count 3.0/2.0 (1.0)\n",
      "Epoch 002/050 | Loss 0.0083 | Win/lose count 3.5/3.0 (0.5)\n",
      "Epoch 003/050 | Loss 0.0068 | Win/lose count 4.5/3.0 (1.5)\n",
      "Epoch 004/050 | Loss 0.0028 | Win/lose count 4.0/3.0 (1.0)\n",
      "Epoch 005/050 | Loss 0.0023 | Win/lose count 3.5/3.0 (0.5)\n",
      "Epoch 006/050 | Loss 0.0019 | Win/lose count 3.5/4.0 (-0.5)\n",
      "Epoch 007/050 | Loss 0.0015 | Win/lose count 6.5/0 (6.5)\n",
      "Epoch 008/050 | Loss 0.0017 | Win/lose count 4.5/3.0 (1.5)\n",
      "Epoch 009/050 | Loss 0.0022 | Win/lose count 4.0/1.0 (3.0)\n",
      "Epoch 010/050 | Loss 0.0055 | Win/lose count 5.5/2.0 (3.5)\n",
      "Epoch 011/050 | Loss 0.0070 | Win/lose count 7.5/5.0 (2.5)\n",
      "Epoch 012/050 | Loss 0.0040 | Win/lose count 7.5/4.0 (3.5)\n",
      "Epoch 013/050 | Loss 0.0033 | Win/lose count 5.0/1.0 (4.0)\n",
      "Epoch 014/050 | Loss 0.0011 | Win/lose count 7.5/2.0 (5.5)\n",
      "Epoch 015/050 | Loss 0.0013 | Win/lose count 8.5/2.0 (6.5)\n",
      "Epoch 016/050 | Loss 0.0024 | Win/lose count 5.5/4.0 (1.5)\n",
      "Epoch 017/050 | Loss 0.0015 | Win/lose count 4.5/1.0 (3.5)\n",
      "Epoch 018/050 | Loss 0.0018 | Win/lose count 6.5/1.0 (5.5)\n",
      "Epoch 019/050 | Loss 0.0033 | Win/lose count 8.0/5.0 (3.0)\n",
      "Epoch 020/050 | Loss 0.0022 | Win/lose count 8.0/4.0 (4.0)\n",
      "Epoch 021/050 | Loss 0.0042 | Win/lose count 4.5/2.0 (2.5)\n",
      "Epoch 022/050 | Loss 0.0024 | Win/lose count 13.5/4.0 (9.5)\n",
      "Epoch 023/050 | Loss 0.0025 | Win/lose count 18.5/6.0 (12.5)\n",
      "Epoch 024/050 | Loss 0.0082 | Win/lose count 13.5/5.0 (8.5)\n",
      "Epoch 025/050 | Loss 0.0031 | Win/lose count 14.5/5.0 (9.5)\n",
      "Epoch 026/050 | Loss 0.0063 | Win/lose count 17.0/2.0 (15.0)\n",
      "Epoch 027/050 | Loss 0.0058 | Win/lose count 9.0/0 (9.0)\n",
      "Epoch 028/050 | Loss 0.0012 | Win/lose count 18.5/3.0 (15.5)\n",
      "Epoch 029/050 | Loss 0.0375 | Win/lose count 19.0/5.0 (14.0)\n",
      "Epoch 030/050 | Loss 0.0024 | Win/lose count 10.5/3.0 (7.5)\n",
      "Epoch 031/050 | Loss 0.0024 | Win/lose count 14.0/2.0 (12.0)\n",
      "Epoch 032/050 | Loss 0.0019 | Win/lose count 11.0/0 (11.0)\n",
      "Epoch 033/050 | Loss 0.0050 | Win/lose count 24.5/5.0 (19.5)\n",
      "Epoch 034/050 | Loss 0.0984 | Win/lose count 8.5/2.0 (6.5)\n",
      "Epoch 035/050 | Loss 0.0045 | Win/lose count 10.5/4.0 (6.5)\n",
      "Epoch 036/050 | Loss 0.0038 | Win/lose count 18.0/1.0 (17.0)\n",
      "Epoch 037/050 | Loss 0.0028 | Win/lose count 8.0/4.0 (4.0)\n",
      "Epoch 038/050 | Loss 0.0007 | Win/lose count 9.5/1.0 (8.5)\n",
      "Epoch 039/050 | Loss 0.0041 | Win/lose count 18.5/3.0 (15.5)\n",
      "Epoch 040/050 | Loss 0.0038 | Win/lose count 9.5/3.0 (6.5)\n",
      "Epoch 041/050 | Loss 0.0012 | Win/lose count 10.5/3.0 (7.5)\n",
      "Epoch 042/050 | Loss 0.0020 | Win/lose count 6.5/0 (6.5)\n",
      "Epoch 043/050 | Loss 0.0017 | Win/lose count 10.5/0 (10.5)\n",
      "Epoch 044/050 | Loss 0.0021 | Win/lose count 7.0/1.0 (6.0)\n",
      "Epoch 045/050 | Loss 0.0049 | Win/lose count 12.5/3.0 (9.5)\n",
      "Epoch 046/050 | Loss 0.0036 | Win/lose count 20.5/3.0 (17.5)\n",
      "Epoch 047/050 | Loss 0.0020 | Win/lose count 4.0/3.0 (1.0)\n",
      "Epoch 048/050 | Loss 0.0016 | Win/lose count 8.0/5.0 (3.0)\n",
      "Epoch 049/050 | Loss 0.0015 | Win/lose count 22.5/4.0 (18.5)\n"
     ]
    },
    {
     "data": {
      "text/html": [
       "<video alt=\"test\" controls>\n",
       "                <source src=\"data:video/mp4;base64,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\" type=\"video/mp4\" />\n",
       "             </video>"
      ],
      "text/plain": [
       "<IPython.core.display.HTML object>"
      ]
     },
     "execution_count": 112,
     "metadata": {},
     "output_type": "execute_result"
    }
   ],
   "source": [
    "env = Environment(grid_size=size, max_time=T, temperature=0.3)\n",
    "agent = DQN_CNN(size, lr=.1, epsilon = 0.1, memory_size=2000, batch_size = 32)\n",
    "train(agent,env,epochs_train,prefix='cnn_train')\n",
    "HTML(display_videos('cnn_train10.mp4'))"
   ]
  },
  {
   "cell_type": "markdown",
   "metadata": {},
   "source": [
    "# Comparison of various deep neural network architectures (with some Convolutional layers)\n",
    "\n",
    "Here I have decided to set the learning rate and the epsilon parameters to 0.1 because it appears to be some good parameters in order to obtain a good solution to our problem. I will set the number of epoch to 50 and I will try various architecture:\n",
    "* Architecture 1: 1 hidden Convolution Layer ((50,(2,2)) , relu activations\n",
    "* Architecture 2: 2 hidden Convolution Layer ((50,(2,2) and then (30,(2,2)), relu activations\n",
    "* Architecture 3: 2 hidden Convolution Layer ((50,(2,2),then a MaxPooling layer (2,2) then a Convolution layer (30,(2,2)), relu activations\n",
    "* Architecture 4: 2 hidden Convolution Layer ((50,(2,2),and then (30,(2,2)), relu activations with Dropout (p=0.3)\n",
    "* Architecture 5: 1 hidden Convolution Layer ((50,(3,3)) , relu activations\n",
    "\n",
    "I remind that there is some stochasticity in the given test score, however from what I observed it represents approximatively the difference in performance between the models.\n",
    "\n",
    "\n",
    "| Architecture       |     Epochs Train    |        Epsilon | Learning Rate | Batch size|Memory size| Final Test Score (Average over 50 epochs)|\n",
    "| :------------ | :-------------: | -------------: | -------------: |-------------: |-------------: |-------------: |\n",
    "| 1       |      50     |         0.1 |0.1 |32 |2000  | 6.61|\n",
    "|** 2 **  | ** 50**      |         **0.1** |**0.1** |**32** |**2000**  | **8.54** |\n",
    "| 3       |      50      |         0.1 |0.1 |32 |2000  | 6.21 |\n",
    "| 4       |      50      |         0.1 |0.1 |32 |2000  |4.58 |\n",
    "| 5     |     50      |         0.1 |0.1 |32 |2000  |6.12 |\n",
    "\n",
    "\n",
    "As we can observe the suggested network performs the best with a good score of 8.54.\n",
    "\n",
    "In the following questions we will use the two networks that have provided the best outcomes in question 7 and question 8. That means that we will use for the FC - 1 hidden layers with output of size 30 - and for the CNN - 2 hidden Convolution Layer ((50,(2,2) and then (30,(2,2)) , relu activations- \n",
    " "
   ]
  },
  {
   "cell_type": "markdown",
   "metadata": {},
   "source": [
    "***\n",
    "***\n",
    "__Question 9__ Test both algorithms and compare their performances. Which issue(s) do you observe? Observe also different behaviors by changing the temperature."
   ]
  },
  {
   "cell_type": "code",
   "execution_count": 121,
   "metadata": {},
   "outputs": [
    {
     "name": "stdout",
     "output_type": "stream",
     "text": [
      "Test of the CNN\n",
      "Win/lose count 33.5/0. Average score (33.5)\n",
      "Win/lose count 52.0/0. Average score (42.75)\n",
      "Win/lose count 62.0/0. Average score (49.166666666666664)\n",
      "Win/lose count 32.5/0. Average score (45.0)\n",
      "Win/lose count 57.0/0. Average score (47.4)\n",
      "Win/lose count 58.0/0. Average score (49.166666666666664)\n",
      "Win/lose count 56.5/0. Average score (50.214285714285715)\n",
      "Win/lose count 64.0/1.0. Average score (51.8125)\n",
      "Win/lose count 66.0/1.0. Average score (53.27777777777778)\n",
      "Win/lose count 56.5/0. Average score (53.6)\n",
      "Win/lose count 47.5/0. Average score (53.04545454545455)\n",
      "Final score: 53.0454545455\n",
      "Test of the FC\n",
      "Win/lose count 9.5/0. Average score (9.5)\n",
      "Win/lose count 4.5/0. Average score (7.0)\n",
      "Win/lose count 11.0/0. Average score (8.333333333333334)\n",
      "Win/lose count 20.0/0. Average score (11.25)\n",
      "Win/lose count 16.5/0. Average score (12.3)\n",
      "Win/lose count 11.0/0. Average score (12.083333333333334)\n",
      "Win/lose count 44.5/0. Average score (16.714285714285715)\n",
      "Win/lose count 11.5/0. Average score (16.0625)\n",
      "Win/lose count 5.0/0. Average score (14.833333333333334)\n",
      "Win/lose count 13.5/0. Average score (14.7)\n",
      "Win/lose count 7.0/0. Average score (14.0)\n",
      "Final score: 14.0\n"
     ]
    }
   ],
   "source": [
    "env = Environment(grid_size=size, max_time=T,temperature=0.9)\n",
    "agent_cnn = DQN_CNN(size, lr=.1, epsilon = 0.1, memory_size=2000, batch_size = 32)\n",
    "agent_cnn.load(name_weights='cnn_trainmodel.h5',name_model='cnn_trainmodel.json')\n",
    "\n",
    "agent_fc = DQN_FC(size, lr=.1, epsilon = 0.1, memory_size=2000, batch_size = 32)\n",
    "agent_fc.load(name_weights='fc_trainmodel.h5',name_model='fc_trainmodel.json')\n",
    "print('Test of the CNN')\n",
    "test(agent_cnn,env,epochs_test,prefix='cnn_test')\n",
    "print('Test of the FC')\n",
    "test(agent_fc,env,epochs_test,prefix='fc_test')"
   ]
  },
  {
   "cell_type": "code",
   "execution_count": 122,
   "metadata": {},
   "outputs": [
    {
     "data": {
      "text/html": [
       "<video alt=\"test\" controls>\n",
       "                <source src=\"data:video/mp4;base64,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\" type=\"video/mp4\" />\n",
       "             </video>"
      ],
      "text/plain": [
       "<IPython.core.display.HTML object>"
      ]
     },
     "execution_count": 122,
     "metadata": {},
     "output_type": "execute_result"
    }
   ],
   "source": [
    "HTML(display_videos('cnn_test10.mp4'))"
   ]
  },
  {
   "cell_type": "code",
   "execution_count": 123,
   "metadata": {},
   "outputs": [
    {
     "data": {
      "text/html": [
       "<video alt=\"test\" controls>\n",
       "                <source src=\"data:video/mp4;base64,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\" type=\"video/mp4\" />\n",
       "             </video>"
      ],
      "text/plain": [
       "<IPython.core.display.HTML object>"
      ]
     },
     "execution_count": 123,
     "metadata": {},
     "output_type": "execute_result"
    }
   ],
   "source": [
    "HTML(display_videos('fc_test10.mp4'))"
   ]
  },
  {
   "cell_type": "markdown",
   "metadata": {},
   "source": [
    "# Comparison of both algorithms\n",
    "\n",
    "Here I have performed various test changing the temperature parameter. I have called Best FC, the fully connected network that has provided the best outcome in the previous questions. I have called Best CNN, the network with CNN layers that has provided the best outcome in the previous questions. I have trained the networks with a temperature equal to 0.3 during 50 epochs.\n",
    "\n",
    " |    Temperature    |   Final Test Score Best FC (Average over 12 epochs)|Final Test Score Best CNN (Average over 12 epochs)|\n",
    "| :------------ | :-------------: | -------------: | \n",
    "| ** 0.1   **     | 1.13636363636    |     2.59090909091   |\n",
    "| ** 0.2   **      |   3.68181818182      |  4.72727272727 |\n",
    "| ** 0.3   **     |  3.81818181818   |   8.18181818182  |\n",
    "| ** 0.4   **        | 2.77272727273  |10.6818181818      |\n",
    "| ** 0.5   **      |    7.5  |  16.1363636364 |\n",
    "| ** 0.6   **      |   7.31818181818    |  15.6818181818 |\n",
    "| ** 0.7   **      |  10.9090909091  |  29.3636363636   |\n",
    "| ** 0.8   **     |   9.95454545455      |    38.7272727273 |\n",
    "| ** 0.9   **     |   14.0   |   53.0454545455 |\n",
    "\n",
    "As we can see, the performance using the architecture based on CNN is widely better than the one obtained using some fully connected networks (about 5 points more). THis gap is increasing with the temperature. \n",
    "\n",
    "The main issue that we can observe is that the algorithms tends to not explore the map that means that sometimes it goes to a position A then goes to a position B and then go back to position A ... This method will not decrease the score but will not help to improve it. This can be especially observed when from the position of the rat it can't observe any positive reward (hence it appears especially when the temperature is low)."
   ]
  },
  {
   "cell_type": "markdown",
   "metadata": {},
   "source": [
    "***\n",
    "\n",
    "The algorithm tends to not explore the map which can be an issue. We propose two ideas in order to encourage exploration:\n",
    "1. Incorporating a decreasing $\\epsilon$-greedy exploration. You can use the method ```set_epsilon```\n",
    "2. Append via the environment a new state that describes if a cell has been visited or not\n",
    "\n",
    "***\n",
    "__Question 10__ Design a new ```train_explore``` function and environment class ```EnvironmentExploring``` to tackle the issue of exploration.\n",
    "\n"
   ]
  },
  {
   "cell_type": "code",
   "execution_count": 17,
   "metadata": {
    "collapsed": true
   },
   "outputs": [],
   "source": [
    "def train_explore(agent,env,epoch,decay_parameter_epsilon=0.3,prefix=''):\n",
    "    #New training procedure that tries to improve the exploration of the algorithm\n",
    "    #decay_parameter_epsilon in order to use the decreasing $\\epsilon$-greedy exploration\n",
    "    \n",
    "    \n",
    "    # Number of won games\n",
    "    score = 0\n",
    "    loss = 0\n",
    "\n",
    "    for e in range(epoch):\n",
    "        # At each epoch, we restart to a fresh game and get the initial state\n",
    "        state = env.reset()\n",
    "        # This assumes that the games will terminate\n",
    "        game_over = False\n",
    "\n",
    "        win = 0\n",
    "        lose = 0\n",
    "        agent.set_epsilon(agent.epsilon*(1-decay_parameter_epsilon))\n",
    "        while not game_over:\n",
    "            # The agent performs an action\n",
    "            action = agent.act(state)\n",
    "\n",
    "            # Apply an action to the environment, get the next state, the reward\n",
    "            # and if the games end\n",
    "            prev_state = state\n",
    "            state, reward, game_over = env.act(action, train=True)\n",
    "\n",
    "            # Update the counters\n",
    "            if reward > 0:\n",
    "                win = win + reward\n",
    "            if reward < 0:\n",
    "                lose = lose -reward\n",
    "\n",
    "            # Apply the reinforcement strategy\n",
    "            loss = agent.reinforce(prev_state, state,  action, reward, game_over)\n",
    "\n",
    "        # Save as a mp4\n",
    "        if e % 10 == 0:\n",
    "            env.draw(prefix+str(e))\n",
    "\n",
    "        # Update stats\n",
    "        score += win-lose\n",
    "\n",
    "        print(\"Epoch {:03d}/{:03d} | Loss {:.4f} | Win/lose count {}/{} ({})\"\n",
    "              .format(e, epoch, loss, win, lose, win-lose))\n",
    "        agent.save(name_weights=prefix+'model.h5',name_model=prefix+'model.json')\n",
    "        \n",
    "class EnvironmentExploring(object):\n",
    "    def __init__(self, grid_size=10, max_time=500, temperature=0.1):\n",
    "        grid_size = grid_size+4\n",
    "        self.grid_size = grid_size\n",
    "        self.max_time = max_time\n",
    "        self.temperature = temperature\n",
    "\n",
    "        #board on which one plays\n",
    "        self.board = np.zeros((grid_size,grid_size))\n",
    "        self.position = np.zeros((grid_size,grid_size))\n",
    "        self.malus_position = np.zeros((grid_size,grid_size)) #define maluses when going to a previously visited position\n",
    "        # coordinate of the cat\n",
    "        self.x = 0\n",
    "        self.y = 1\n",
    "\n",
    "        # self time\n",
    "        self.t = 0\n",
    "\n",
    "        self.scale=16\n",
    "\n",
    "        self.to_draw = np.zeros((max_time+2, grid_size*self.scale, grid_size*self.scale, 3))\n",
    "\n",
    "\n",
    "    def draw(self,e):\n",
    "        skvideo.io.vwrite(str(e) + '.mp4', self.to_draw)\n",
    "\n",
    "    def get_frame(self,t):\n",
    "        b = np.zeros((self.grid_size,self.grid_size,3))+128\n",
    "        b[self.board>0,0] = 256\n",
    "        b[self.board < 0, 2] = 256\n",
    "        b[self.x,self.y,:]=256\n",
    "        b[-2:,:,:]=0\n",
    "        b[:,-2:,:]=0\n",
    "        b[:2,:,:]=0\n",
    "        b[:,:2,:]=0\n",
    "        \n",
    "        b =  cv2.resize(b, None, fx=self.scale, fy=self.scale, interpolation=cv2.INTER_NEAREST)\n",
    "\n",
    "        self.to_draw[t,:,:,:]=b\n",
    "\n",
    "\n",
    "    def act(self, action,train=False):\n",
    "        \"\"\"This function returns the new state, reward and decides if the\n",
    "        game ends.\"\"\"\n",
    "        #During the training phase going back to a position where the rat have already been before tends to decrease the \n",
    "        #total reward hence there is this train parameter that we have added (it tries to enforce the exploration)\n",
    "\n",
    "        self.get_frame(int(self.t))\n",
    "\n",
    "        self.position = np.zeros((self.grid_size, self.grid_size))\n",
    "\n",
    "        self.position[0:2,:]= -1\n",
    "        self.position[:,0:2] = -1\n",
    "        self.position[-2:, :] = -1\n",
    "        self.position[:, -2:] = -1\n",
    "\n",
    "        self.position[self.x, self.y] = 1\n",
    "        if action == 0:\n",
    "            if self.x == self.grid_size-3:\n",
    "                self.x = self.x-1\n",
    "            else:\n",
    "                self.x = self.x + 1\n",
    "        elif action == 1:\n",
    "            if self.x == 2:\n",
    "                self.x = self.x+1\n",
    "            else:\n",
    "                self.x = self.x-1\n",
    "        elif action == 2:\n",
    "            if self.y == self.grid_size - 3:\n",
    "                self.y = self.y - 1\n",
    "            else:\n",
    "                self.y = self.y + 1\n",
    "        elif action == 3:\n",
    "            if self.y == 2:\n",
    "                self.y = self.y + 1\n",
    "            else:\n",
    "                self.y = self.y - 1\n",
    "        else:\n",
    "            RuntimeError('Error: action not recognized')\n",
    "\n",
    "        self.t = self.t + 1     \n",
    "        \n",
    "        ## In Environment exploring:\n",
    "        # You will have to change n_state to 3 because you will use one more layer!\n",
    "        reward = 0\n",
    "        if train:\n",
    "            reward = -self.malus_position[self.x, self.y]\n",
    "        self.malus_position[self.x, self.y] = 0.1\n",
    "\n",
    "        reward = reward + self.board[self.x, self.y]\n",
    "        self.board[self.x, self.y] = 0\n",
    "        game_over = self.t > self.max_time\n",
    "        # 3 \"feature\" states instead of 2\n",
    "        state = np.concatenate((self.malus_position.reshape(self.grid_size, self.grid_size,1),\n",
    "                                        self.board.reshape(self.grid_size, self.grid_size,1),\n",
    "                                self.position.reshape(self.grid_size, self.grid_size,1)),axis=2)\n",
    "        state = state[self.x-2:self.x+3,self.y-2:self.y+3,:]\n",
    "\n",
    "        return state, reward, game_over\n",
    "\n",
    "    def reset(self):\n",
    "        \"\"\"This function resets the game and returns the initial state\"\"\"\n",
    "\n",
    "        self.x = np.random.randint(3, self.grid_size-3, size=1)[0]\n",
    "        self.y = np.random.randint(3, self.grid_size-3, size=1)[0]\n",
    "\n",
    "\n",
    "        bonus = 0.5*np.random.binomial(1,self.temperature,size=self.grid_size**2)\n",
    "        bonus = bonus.reshape(self.grid_size,self.grid_size)\n",
    "\n",
    "        malus = -1.0*np.random.binomial(1,self.temperature,size=self.grid_size**2)\n",
    "        malus = malus.reshape(self.grid_size, self.grid_size)\n",
    "\n",
    "        self.to_draw = np.zeros((self.max_time+2, self.grid_size*self.scale, self.grid_size*self.scale, 3))\n",
    "\n",
    "\n",
    "        malus[bonus>0]=0\n",
    "\n",
    "        self.board = bonus + malus\n",
    "\n",
    "        self.position = np.zeros((self.grid_size, self.grid_size))\n",
    "        self.position[0:2,:]= -1\n",
    "        self.position[:,0:2] = -1\n",
    "        self.position[-2:, :] = -1\n",
    "        self.position[:,-2:] = -1\n",
    "        self.board[self.x,self.y] = 0\n",
    "        self.t = 0\n",
    "\n",
    "        self.malus_position = np.zeros((self.grid_size, self.grid_size))\n",
    "        #At the begining the malus_position array must be setted to zero\n",
    "        state = np.concatenate((self.malus_position.reshape(self.grid_size, self.grid_size,1),\n",
    "                                        self.board.reshape(self.grid_size, self.grid_size,1),\n",
    "                                self.position.reshape(self.grid_size, self.grid_size,1)),axis=2)\n",
    "\n",
    "        state = state[self.x - 2:self.x + 3, self.y - 2:self.y + 3, :]\n",
    "        return state\n",
    "\n"
   ]
  },
  {
   "cell_type": "code",
   "execution_count": 30,
   "metadata": {},
   "outputs": [
    {
     "name": "stdout",
     "output_type": "stream",
     "text": [
      "Epoch 000/050 | Loss 0.0229 | Win/lose count 11.0/25.700000000000074 (-14.700000000000074)\n",
      "Epoch 001/050 | Loss 0.0122 | Win/lose count 11.5/20.299999999999997 (-8.799999999999997)\n",
      "Epoch 002/050 | Loss 0.0582 | Win/lose count 14.5/20.90000000000005 (-6.400000000000048)\n",
      "Epoch 003/050 | Loss 0.0036 | Win/lose count 13.5/21.1 (-7.600000000000001)\n",
      "Epoch 004/050 | Loss 0.0062 | Win/lose count 18.5/18.49999999999999 (1.0658141036401503e-14)\n",
      "Epoch 005/050 | Loss 0.0086 | Win/lose count 10.0/25.500000000000085 (-15.500000000000085)\n",
      "Epoch 006/050 | Loss 0.0534 | Win/lose count 15.0/25.000000000000007 (-10.000000000000007)\n",
      "Epoch 007/050 | Loss 0.0103 | Win/lose count 14.5/23.0 (-8.5)\n",
      "Epoch 008/050 | Loss 0.0052 | Win/lose count 25.5/12.899999999999975 (12.600000000000025)\n",
      "Epoch 009/050 | Loss 0.0047 | Win/lose count 17.0/13.899999999999972 (3.100000000000028)\n",
      "Epoch 010/050 | Loss 0.0111 | Win/lose count 16.5/22.200000000000017 (-5.700000000000017)\n",
      "Epoch 011/050 | Loss 0.0048 | Win/lose count 24.0/16.699999999999967 (7.300000000000033)\n",
      "Epoch 012/050 | Loss 0.0080 | Win/lose count 14.5/15.999999999999963 (-1.4999999999999627)\n",
      "Epoch 013/050 | Loss 0.0074 | Win/lose count 17.0/16.29999999999997 (0.7000000000000313)\n",
      "Epoch 014/050 | Loss 0.0047 | Win/lose count 22.5/12.599999999999978 (9.900000000000022)\n",
      "Epoch 015/050 | Loss 0.0084 | Win/lose count 17.5/17.299999999999983 (0.20000000000001705)\n",
      "Epoch 016/050 | Loss 0.0084 | Win/lose count 17.5/16.699999999999978 (0.800000000000022)\n",
      "Epoch 017/050 | Loss 0.0443 | Win/lose count 15.5/18.1 (-2.6000000000000014)\n",
      "Epoch 018/050 | Loss 0.0112 | Win/lose count 25.0/10.099999999999984 (14.900000000000016)\n",
      "Epoch 019/050 | Loss 0.0091 | Win/lose count 28.0/13.499999999999984 (14.500000000000016)\n",
      "Epoch 020/050 | Loss 0.0053 | Win/lose count 26.0/11.599999999999975 (14.400000000000025)\n",
      "Epoch 021/050 | Loss 0.0108 | Win/lose count 24.5/14.499999999999979 (10.000000000000021)\n",
      "Epoch 022/050 | Loss 0.0084 | Win/lose count 13.0/16.29999999999997 (-3.2999999999999687)\n",
      "Epoch 023/050 | Loss 0.0195 | Win/lose count 19.0/12.099999999999977 (6.9000000000000234)\n",
      "Epoch 024/050 | Loss 0.0068 | Win/lose count 23.0/11.499999999999975 (11.500000000000025)\n",
      "Epoch 025/050 | Loss 0.0097 | Win/lose count 23.5/11.899999999999977 (11.600000000000023)\n",
      "Epoch 026/050 | Loss 0.0039 | Win/lose count 25.0/10.699999999999978 (14.300000000000022)\n",
      "Epoch 027/050 | Loss 0.0081 | Win/lose count 28.5/13.199999999999976 (15.300000000000024)\n",
      "Epoch 028/050 | Loss 0.0221 | Win/lose count 18.5/17.299999999999986 (1.2000000000000135)\n",
      "Epoch 029/050 | Loss 0.0214 | Win/lose count 23.5/9.89999999999998 (13.60000000000002)\n",
      "Epoch 030/050 | Loss 0.0113 | Win/lose count 24.0/9.899999999999984 (14.100000000000016)\n",
      "Epoch 031/050 | Loss 0.0087 | Win/lose count 19.0/12.09999999999998 (6.90000000000002)\n",
      "Epoch 032/050 | Loss 0.0219 | Win/lose count 24.0/10.899999999999979 (13.100000000000021)\n",
      "Epoch 033/050 | Loss 0.0092 | Win/lose count 27.5/10.89999999999998 (16.60000000000002)\n",
      "Epoch 034/050 | Loss 0.0073 | Win/lose count 24.5/10.499999999999982 (14.000000000000018)\n",
      "Epoch 035/050 | Loss 0.0085 | Win/lose count 21.0/9.89999999999998 (11.10000000000002)\n",
      "Epoch 036/050 | Loss 0.0126 | Win/lose count 21.0/10.99999999999998 (10.00000000000002)\n",
      "Epoch 037/050 | Loss 0.0133 | Win/lose count 25.5/9.599999999999985 (15.900000000000015)\n",
      "Epoch 038/050 | Loss 0.0253 | Win/lose count 19.0/9.89999999999998 (9.10000000000002)\n",
      "Epoch 039/050 | Loss 0.0225 | Win/lose count 25.0/11.09999999999998 (13.90000000000002)\n",
      "Epoch 040/050 | Loss 0.0085 | Win/lose count 20.5/14.699999999999967 (5.800000000000033)\n",
      "Epoch 041/050 | Loss 0.0154 | Win/lose count 21.5/11.699999999999974 (9.800000000000026)\n",
      "Epoch 042/050 | Loss 0.0128 | Win/lose count 23.5/7.099999999999991 (16.40000000000001)\n",
      "Epoch 043/050 | Loss 0.0151 | Win/lose count 26.5/13.499999999999979 (13.000000000000021)\n",
      "Epoch 044/050 | Loss 0.0108 | Win/lose count 19.0/12.69999999999997 (6.300000000000029)\n",
      "Epoch 045/050 | Loss 0.0138 | Win/lose count 25.0/9.199999999999983 (15.800000000000017)\n",
      "Epoch 046/050 | Loss 0.0099 | Win/lose count 22.0/13.499999999999972 (8.500000000000028)\n",
      "Epoch 047/050 | Loss 0.0067 | Win/lose count 28.5/7.099999999999991 (21.40000000000001)\n",
      "Epoch 048/050 | Loss 0.0095 | Win/lose count 24.5/7.899999999999988 (16.600000000000012)\n",
      "Epoch 049/050 | Loss 0.0076 | Win/lose count 28.5/9.199999999999987 (19.30000000000001)\n"
     ]
    },
    {
     "data": {
      "text/html": [
       "<video alt=\"test\" controls>\n",
       "                <source src=\"data:video/mp4;base64,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\" type=\"video/mp4\" />\n",
       "             </video>"
      ],
      "text/plain": [
       "<IPython.core.display.HTML object>"
      ]
     },
     "execution_count": 30,
     "metadata": {},
     "output_type": "execute_result"
    }
   ],
   "source": [
    "epochs_train = 50\n",
    "env = EnvironmentExploring(grid_size=size, max_time=T, temperature=0.3)\n",
    "agent = DQN_CNN(size, lr=.1, epsilon =0.6, memory_size=2000, batch_size = 32,n_state=3) #epsilon is high because it will decrease with time\n",
    "train_explore(agent, env, epochs_train,decay_parameter_epsilon=0.1, prefix='cnn_train_explore')\n",
    "HTML(display_videos('cnn_train_explore10.mp4'))"
   ]
  },
  {
   "cell_type": "code",
   "execution_count": 28,
   "metadata": {},
   "outputs": [
    {
     "name": "stdout",
     "output_type": "stream",
     "text": [
      "Win/lose count 25.0/2.0. Average score (23.0)\n",
      "Win/lose count 22.5/2.0. Average score (21.75)\n",
      "Win/lose count 25.0/2.0. Average score (22.166666666666668)\n",
      "Win/lose count 24.5/3.0. Average score (22.0)\n",
      "Win/lose count 30.0/4.0. Average score (22.8)\n",
      "Win/lose count 25.0/3.0. Average score (22.666666666666668)\n",
      "Win/lose count 21.5/2.0. Average score (22.214285714285715)\n",
      "Win/lose count 21.0/3.0. Average score (21.6875)\n",
      "Win/lose count 21.0/1.0. Average score (21.5)\n",
      "Win/lose count 25.5/1.0. Average score (21.8)\n",
      "Win/lose count 22.0/2.0. Average score (21.636363636363637)\n",
      "Final score: 21.6363636364\n"
     ]
    },
    {
     "data": {
      "text/html": [
       "<video alt=\"test\" controls>\n",
       "                <source src=\"data:video/mp4;base64,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\" type=\"video/mp4\" />\n",
       "             </video>"
      ],
      "text/plain": [
       "<IPython.core.display.HTML object>"
      ]
     },
     "execution_count": 28,
     "metadata": {},
     "output_type": "execute_result"
    }
   ],
   "source": [
    "# Evaluation\n",
    "test(agent,env,epochs_test,prefix='cnn_test_explore')\n",
    "HTML(display_videos('cnn_test_explore10.mp4'))"
   ]
  },
  {
   "cell_type": "markdown",
   "metadata": {},
   "source": [
    "** Conclusion on the use of the approach with exploration:** As we can see the outcome has been widely improved using the approach with exploration. We have now a score that can reach an average score of 19 (over 11 epochs) with a temperature of 0.3 while without exploration the DQN_CNN trained during 50 epochs was reaching score that rarely exceed 9  (over 11 epochs during the test phase). This is a wide improvement!"
   ]
  },
  {
   "cell_type": "markdown",
   "metadata": {},
   "source": [
    "***\n",
    "***\n",
    "__BONUS question__ Use the expert DQN from the previous question to generate some winning games. Train a model that mimicks its behavior. Compare the performances."
   ]
  },
  {
   "cell_type": "code",
   "execution_count": 31,
   "metadata": {
    "collapsed": true
   },
   "outputs": [],
   "source": [
    "class DQN_Mim(Agent):\n",
    "    def __init__(self, grid_size,  epsilon = 0.1, memory_size=100, batch_size = 16,n_state=2):\n",
    "        super(DQN_Mim, self).__init__(epsilon = epsilon)\n",
    "\n",
    "        # Discount for Q learning\n",
    "        self.discount = 0.99\n",
    "        \n",
    "        self.grid_size = grid_size\n",
    "        \n",
    "        # number of state\n",
    "        self.n_state = n_state\n",
    "\n",
    "        # Memory\n",
    "        self.memory = Memory(memory_size)\n",
    "        \n",
    "        # Batch size when learning\n",
    "        self.batch_size = batch_size\n",
    "\n",
    "    def learned_act(self, s):\n",
    "        return np.argmax(self.model.predict(s.reshape([1,s.shape[0],s.shape[1],s.shape[2]]))[0,:])\n",
    "\n",
    "    def reinforce(self, s_, a_):\n",
    "        # Two steps: first memorize the states, second learn from the pool\n",
    "        self.memory.remember([s_[:,:,1:], a_]) #now we will not use the fact that our model need to verify the bellman equation but directly copy what the expert has done\n",
    "        #hence we juste need the current state and the action that has been applied\n",
    "        input_states = np.zeros((self.batch_size, 5,5,self.n_state))\n",
    "        target_q = np.zeros((self.batch_size, 4))\n",
    "        \n",
    "        for i in range(self.batch_size):\n",
    "            s_, a_ = self.memory.random_access()\n",
    "            input_states[i] = s_\n",
    "            target_q[i,a_] = 10  #Now we want to mimick the expert hence we want our target function to be maximized \n",
    "            #in the action applied by the expert\n",
    "            \n",
    "        l = self.model.train_on_batch(input_states, target_q)\n",
    "\n",
    "\n",
    "        return l\n",
    "\n",
    "    def save(self,name_weights='model.h5',name_model='model.json'):\n",
    "        self.model.save_weights(name_weights, overwrite=True)\n",
    "        with open(name_model, \"w\") as outfile:\n",
    "            json.dump(self.model.to_json(), outfile)\n",
    "            \n",
    "    def load(self,name_weights='model.h5',name_model='model.json'):\n",
    "        with open(name_model, \"r\") as jfile:\n",
    "            model = model_from_json(json.load(jfile))\n",
    "        model.load_weights(name_weights)\n",
    "        model.compile(\"sgd\", \"mse\")\n",
    "        self.model = model\n",
    "            \n",
    "class DQN_CNN_Mim(DQN_Mim):\n",
    "    def __init__(self, *args,lr=0.1,**kwargs):\n",
    "        super(DQN_CNN_Mim, self).__init__(*args,**kwargs)\n",
    "        \n",
    "        model = Sequential()\n",
    "        model.add(Conv2D(50,(2,2),input_shape=(5,5,self.n_state,),activation='relu')) #model with 1 hidden CNN performs the best\n",
    "        #with my method from what I ve experimented\n",
    "        model.add(Flatten())\n",
    "        model.add(Dense(4))\n",
    "        model.compile(sgd(lr=lr, decay=1e-4, momentum=0.0), \"mse\")\n",
    "        self.model = model"
   ]
  },
  {
   "cell_type": "code",
   "execution_count": 32,
   "metadata": {
    "collapsed": true
   },
   "outputs": [],
   "source": [
    "def train_mimick(expert,agent,env,epoch,prefix=''):\n",
    "    # Number of won games\n",
    "    score = 0\n",
    "    loss = 0    \n",
    "    \n",
    "    for e in range(epoch):\n",
    "        # At each epoch, we restart to a fresh game and get the initial state\n",
    "        state = env.reset()\n",
    "        # This assumes that the games will terminate\n",
    "        game_over = False\n",
    "\n",
    "        win = 0\n",
    "        lose = 0\n",
    "        while not game_over:\n",
    "            # The agent performs an action\n",
    "            action = expert.act(state,train=False)\n",
    "\n",
    "            # Apply an action to the environment, get the next state, the reward\n",
    "            # and if the games end\n",
    "            prev_state = state\n",
    "            state, reward, game_over = env.act(action)\n",
    "\n",
    "            # Update the counters\n",
    "            if reward > 0:\n",
    "                win = win + reward\n",
    "            if reward < 0:\n",
    "                lose = lose -reward\n",
    "\n",
    "            # Apply the reinforcement strategy\n",
    "            loss = agent.reinforce(prev_state,  action)\n",
    "\n",
    "        # Save as a mp4\n",
    "        if e % 10 == 0:\n",
    "            env.draw(prefix+str(e))\n",
    "\n",
    "        # Update stats\n",
    "        score += win-lose\n",
    "\n",
    "        print(\"Epoch {:03d}/{:03d} | Loss {:.4f} | Win/lose count {}/{} ({})\"\n",
    "              .format(e, epoch, loss, win, lose, win-lose))\n",
    "        agent.save(name_weights=prefix+'model.h5',name_model=prefix+'model.json')"
   ]
  },
  {
   "cell_type": "code",
   "execution_count": 33,
   "metadata": {},
   "outputs": [
    {
     "name": "stdout",
     "output_type": "stream",
     "text": [
      "Epoch 000/050 | Loss 3.4851 | Win/lose count 20.0/2.0 (18.0)\n",
      "Epoch 001/050 | Loss 4.1354 | Win/lose count 21.5/1.0 (20.5)\n",
      "Epoch 002/050 | Loss 5.5993 | Win/lose count 28.5/3.0 (25.5)\n",
      "Epoch 003/050 | Loss 5.4936 | Win/lose count 14.5/2.0 (12.5)\n",
      "Epoch 004/050 | Loss 6.6975 | Win/lose count 30.0/1.0 (29.0)\n",
      "Epoch 005/050 | Loss 8.7608 | Win/lose count 22.0/3.0 (19.0)\n",
      "Epoch 006/050 | Loss 9.7985 | Win/lose count 22.5/2.0 (20.5)\n",
      "Epoch 007/050 | Loss 7.3762 | Win/lose count 22.5/4.0 (18.5)\n",
      "Epoch 008/050 | Loss 7.7667 | Win/lose count 18.5/2.0 (16.5)\n",
      "Epoch 009/050 | Loss 8.8907 | Win/lose count 19.0/1.0 (18.0)\n",
      "Epoch 010/050 | Loss 6.0965 | Win/lose count 26.5/4.0 (22.5)\n",
      "Epoch 011/050 | Loss 9.5132 | Win/lose count 23.5/0 (23.5)\n",
      "Epoch 012/050 | Loss 8.2908 | Win/lose count 22.5/0 (22.5)\n",
      "Epoch 013/050 | Loss 7.2360 | Win/lose count 23.5/1.0 (22.5)\n",
      "Epoch 014/050 | Loss 7.5999 | Win/lose count 25.0/3.0 (22.0)\n",
      "Epoch 015/050 | Loss 7.1582 | Win/lose count 15.5/3.0 (12.5)\n",
      "Epoch 016/050 | Loss 8.5790 | Win/lose count 16.0/0 (16.0)\n",
      "Epoch 017/050 | Loss 6.7101 | Win/lose count 20.0/3.0 (17.0)\n",
      "Epoch 018/050 | Loss 6.7999 | Win/lose count 22.0/0 (22.0)\n",
      "Epoch 019/050 | Loss 7.1764 | Win/lose count 23.0/2.0 (21.0)\n",
      "Epoch 020/050 | Loss 6.3669 | Win/lose count 1.5/0 (1.5)\n",
      "Epoch 021/050 | Loss 5.9253 | Win/lose count 26.5/2.0 (24.5)\n",
      "Epoch 022/050 | Loss 5.2739 | Win/lose count 25.5/2.0 (23.5)\n",
      "Epoch 023/050 | Loss 5.8787 | Win/lose count 19.5/0 (19.5)\n",
      "Epoch 024/050 | Loss 5.9763 | Win/lose count 23.0/0 (23.0)\n",
      "Epoch 025/050 | Loss 4.7727 | Win/lose count 25.0/3.0 (22.0)\n",
      "Epoch 026/050 | Loss 6.1845 | Win/lose count 22.0/1.0 (21.0)\n",
      "Epoch 027/050 | Loss 6.7361 | Win/lose count 22.5/0 (22.5)\n",
      "Epoch 028/050 | Loss 4.7722 | Win/lose count 25.0/5.0 (20.0)\n",
      "Epoch 029/050 | Loss 6.2531 | Win/lose count 16.5/1.0 (15.5)\n",
      "Epoch 030/050 | Loss 6.3938 | Win/lose count 23.0/0 (23.0)\n",
      "Epoch 031/050 | Loss 6.3786 | Win/lose count 20.0/3.0 (17.0)\n",
      "Epoch 032/050 | Loss 6.7446 | Win/lose count 20.0/1.0 (19.0)\n",
      "Epoch 033/050 | Loss 5.3551 | Win/lose count 26.5/1.0 (25.5)\n",
      "Epoch 034/050 | Loss 4.8531 | Win/lose count 26.0/0 (26.0)\n",
      "Epoch 035/050 | Loss 5.4095 | Win/lose count 26.0/0 (26.0)\n",
      "Epoch 036/050 | Loss 6.3181 | Win/lose count 16.5/0 (16.5)\n",
      "Epoch 037/050 | Loss 6.5131 | Win/lose count 23.0/3.0 (20.0)\n",
      "Epoch 038/050 | Loss 6.3692 | Win/lose count 25.0/1.0 (24.0)\n",
      "Epoch 039/050 | Loss 4.7862 | Win/lose count 21.5/3.0 (18.5)\n",
      "Epoch 040/050 | Loss 5.9701 | Win/lose count 25.0/1.0 (24.0)\n",
      "Epoch 041/050 | Loss 6.3207 | Win/lose count 17.5/3.0 (14.5)\n",
      "Epoch 042/050 | Loss 8.7552 | Win/lose count 15.0/1.0 (14.0)\n",
      "Epoch 043/050 | Loss 5.1950 | Win/lose count 13.0/0 (13.0)\n",
      "Epoch 044/050 | Loss 6.4516 | Win/lose count 22.0/1.0 (21.0)\n",
      "Epoch 045/050 | Loss 8.5993 | Win/lose count 21.0/3.0 (18.0)\n",
      "Epoch 046/050 | Loss 6.8699 | Win/lose count 17.5/0 (17.5)\n",
      "Epoch 047/050 | Loss 7.1615 | Win/lose count 23.0/2.0 (21.0)\n",
      "Epoch 048/050 | Loss 6.8719 | Win/lose count 22.5/2.0 (20.5)\n",
      "Epoch 049/050 | Loss 7.1772 | Win/lose count 25.5/2.0 (23.5)\n"
     ]
    }
   ],
   "source": [
    "epochs_train = 50\n",
    "expert = agent\n",
    "agent_n = DQN_CNN_Mim(size, lr=.1, epsilon = 0.1, memory_size=2000, batch_size = 32,n_state=2)\n",
    "env = EnvironmentExploring(grid_size=size, max_time=T, temperature=0.3)\n",
    "train_mimick(expert,agent_n, env, epochs_train, prefix='cnn_train_mimick')"
   ]
  },
  {
   "cell_type": "code",
   "execution_count": 34,
   "metadata": {},
   "outputs": [
    {
     "name": "stdout",
     "output_type": "stream",
     "text": [
      "Win/lose count 14.0/0. Average score (14.0)\n",
      "Win/lose count 8.5/2.0. Average score (10.25)\n",
      "Win/lose count 18.5/2.0. Average score (12.333333333333334)\n",
      "Win/lose count 6.5/1.0. Average score (10.625)\n",
      "Win/lose count 16.5/2.0. Average score (11.4)\n",
      "Win/lose count 15.5/2.0. Average score (11.75)\n",
      "Win/lose count 4.5/0. Average score (10.714285714285714)\n",
      "Win/lose count 15.0/0. Average score (11.25)\n",
      "Win/lose count 5.5/0. Average score (10.61111111111111)\n",
      "Win/lose count 12.5/0. Average score (10.8)\n",
      "Win/lose count 11.5/2.0. Average score (10.681818181818182)\n",
      "Final score: 10.6818181818\n"
     ]
    }
   ],
   "source": [
    "env_test = Environment(grid_size=size, max_time=T,temperature=0.3)\n",
    "test(agent_n,env_test,epochs_test,prefix='cnn_test_mimick')"
   ]
  },
  {
   "cell_type": "code",
   "execution_count": 38,
   "metadata": {},
   "outputs": [
    {
     "data": {
      "text/html": [
       "<video alt=\"test\" controls>\n",
       "                <source src=\"data:video/mp4;base64,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\" type=\"video/mp4\" />\n",
       "             </video>"
      ],
      "text/plain": [
       "<IPython.core.display.HTML object>"
      ]
     },
     "execution_count": 38,
     "metadata": {},
     "output_type": "execute_result"
    }
   ],
   "source": [
    "HTML(display_videos('cnn_test_mimick10.mp4'))"
   ]
  },
  {
   "cell_type": "markdown",
   "metadata": {},
   "source": [
    "As we can see our algorithm that tries to mimick the expert performs better than the algorithm without exploration! \n",
    "\n",
    "The final score for the copy is about 11 (average over 11 epochs for testing). It is lower than the score obtained using the approach with exploration. This can be explained by the fact that it doesn't really learn to improve the score but it just tries to copy the original algorithm hence it could at best performs such as the expert algorithm but it couldn't exceed it. We could try an approach where we would have pretrained the algorithm without the expert and then train the algorithm to copy the expert (or the reverse procedure). "
   ]
  }
 ],
 "metadata": {
  "anaconda-cloud": {},
  "kernelspec": {
   "display_name": "Python 3",
   "language": "python",
   "name": "python3"
  },
  "language_info": {
   "codemirror_mode": {
    "name": "ipython",
    "version": 3
   },
   "file_extension": ".py",
   "mimetype": "text/x-python",
   "name": "python",
   "nbconvert_exporter": "python",
   "pygments_lexer": "ipython3",
   "version": "3.6.2"
  }
 },
 "nbformat": 4,
 "nbformat_minor": 2
}
