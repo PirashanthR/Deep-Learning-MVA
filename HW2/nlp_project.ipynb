{
 "cells": [
  {
   "cell_type": "markdown",
   "metadata": {},
   "source": [
    "# Deep Learning for NLP - Project"
   ]
  },
  {
   "cell_type": "markdown",
   "metadata": {},
   "source": [
    "RULES:\n",
    "\n",
    "* Do not create any additional cell\n",
    "\n",
    "* Fill in the blanks\n",
    "\n",
    "* All cells should be runnable (modulo trivial compatibility bugs that we'd fix)\n",
    "\n",
    "* 4 / 20 points will be allocated to the clarity of your code\n",
    "\n",
    "* Efficient code will have a bonus\n",
    "\n",
    "DELIVERABLE:\n",
    "\n",
    "* this notebook\n",
    "* the predictions of the SST test set\n",
    "\n",
    "DO NOT INCLUDE THE DATASETS IN THE DELIVERABLE.."
   ]
  },
  {
   "cell_type": "code",
   "execution_count": 2,
   "metadata": {
    "collapsed": true
   },
   "outputs": [],
   "source": [
    "import io\n",
    "import os\n",
    "import numpy as np\n",
    "import scipy"
   ]
  },
  {
   "cell_type": "code",
   "execution_count": 3,
   "metadata": {
    "collapsed": true
   },
   "outputs": [],
   "source": [
    "PATH_TO_DATA = r\"./data/\""
   ]
  },
  {
   "cell_type": "markdown",
   "metadata": {},
   "source": [
    "# 1) Monolingual (English) word embeddings "
   ]
  },
  {
   "cell_type": "code",
   "execution_count": 22,
   "metadata": {
    "collapsed": true
   },
   "outputs": [],
   "source": [
    "class Word2vec():\n",
    "    def __init__(self, fname, nmax=100000):\n",
    "        self.load_wordvec(fname, nmax)\n",
    "        self.word2id = dict.fromkeys(self.word2vec.keys())\n",
    "        self.id2word = {v: k for k, v in self.word2id.items()}\n",
    "        self.embeddings = np.array(self.word2vec.values())\n",
    "    \n",
    "    def load_wordvec(self, fname, nmax):\n",
    "        self.word2vec = {}\n",
    "        with io.open(fname, encoding='utf-8') as f:\n",
    "            next(f)\n",
    "            for i, line in enumerate(f):\n",
    "                word, vec = line.split(' ', 1)\n",
    "                self.word2vec[word] = np.fromstring(vec, sep=' ')\n",
    "                if i == (nmax - 1):\n",
    "                    break\n",
    "        print('Loaded %s pretrained word vectors' % (len(self.word2vec)))\n",
    "\n",
    "    def most_similar(self, w, K=5):\n",
    "        # K most similar words: self.score  -  np.argsort\n",
    "        list_score = [self.score(w,w_dico) for w_dico in self.word2vec]\n",
    "        if max(list_score)>0:\n",
    "            index_best_words = (np.argsort(list_score)[::-1][:K])\n",
    "            return list(np.array(self.word2vec.keys())[index_best_words])\n",
    "        else:\n",
    "            print('The word given as input is not in the pretrained vocabulary')\n",
    "            return []\n",
    "\n",
    "    def score(self, w1, w2):\n",
    "        # cosine similarity: np.dot  -  np.linalg.norm\n",
    "        if w1 in self.word2vec:\n",
    "            emb1 = self.word2vec[w1]\n",
    "        if w2 in self.word2vec:\n",
    "            emb2 = self.word2vec[w2]\n",
    "        if (w1 in self.word2vec)and(w2 in self.word2vec):\n",
    "            return emb1.dot(emb2.T)/(np.linalg.norm(emb1)*np.linalg.norm(emb2))\n",
    "        else:\n",
    "            return 0\n"
   ]
  },
  {
   "cell_type": "code",
   "execution_count": 5,
   "metadata": {},
   "outputs": [
    {
     "name": "stdout",
     "output_type": "stream",
     "text": [
      "Loaded 25000 pretrained word vectors\n",
      "('cat', 'dog', 0.67168366627924903)\n",
      "('dog', 'pet', 0.68420640296692192)\n",
      "('dogs', 'cats', 0.70743893280524039)\n",
      "('paris', 'france', 0)\n",
      "('germany', 'berlin', 0)\n",
      "[u'cat', u'cats', u'kitty', u'kitten', u'Cat']\n",
      "[u'dog', u'dogs', u'puppy', u'Dog', u'canine']\n",
      "[u'dogs', u'dog', u'Dogs', u'puppies', u'cats']\n",
      "The word given as input is not in the pretrained vocabulary\n",
      "[]\n",
      "The word given as input is not in the pretrained vocabulary\n",
      "[]\n"
     ]
    }
   ],
   "source": [
    "w2v = Word2vec(os.path.join(PATH_TO_DATA, 'crawl-300d-200k.vec'), nmax=25000)\n",
    "\n",
    "# You will be evaluated on the output of the following:\n",
    "for w1, w2 in zip(('cat', 'dog', 'dogs', 'paris', 'germany'), ('dog', 'pet', 'cats', 'france', 'berlin')):\n",
    "    print(w1, w2, w2v.score(w1, w2))\n",
    "for w1 in ['cat', 'dog', 'dogs', 'paris', 'germany']:\n",
    "    print(w2v.most_similar(w1))"
   ]
  },
  {
   "cell_type": "code",
   "execution_count": 6,
   "metadata": {
    "collapsed": true
   },
   "outputs": [],
   "source": [
    "class BoV():\n",
    "    def __init__(self, w2v):\n",
    "        self.w2v = w2v\n",
    "    \n",
    "    def encode(self, sentences, idf=False):\n",
    "        # takes a list of sentences, outputs a numpy array of sentence embeddings\n",
    "        # see TP1 for help\n",
    "        sentemb = []\n",
    "        idf_dic = idf\n",
    "        for sent in sentences:\n",
    "            if idf is False:\n",
    "                # mean of word vectors\n",
    "                list_embeddings = [self.w2v.word2vec[w] for w in sent if w in w2v.word2vec]\n",
    "                if len(list_embeddings)==0: #if any word in the sentence is in our lookup table\n",
    "                    sentemb.append(np.zeros(self.w2v.word2vec.values()[0].shape))\n",
    "                else:\n",
    "                    sentemb.append(np.mean(list_embeddings, axis=0))\n",
    "            else:\n",
    "                # idf-weighted mean of word vectors\n",
    "                list_embeddings = [idf_dic[w]*self.w2v.word2vec[w] for w in sent if w in w2v.word2vec]\n",
    "                if len(list_embeddings)==0: #if any word in the sentence is in our lookup table\n",
    "                    sentemb.append(np.zeros(self.w2v.word2vec.values()[0].shape))\n",
    "                else:\n",
    "                    sentemb.append(np.mean(list_embeddings, axis=0))\n",
    "        return np.vstack(sentemb)\n",
    "\n",
    "    def most_similar(self, s, sentences, idf=False, K=5):\n",
    "        # get most similar sentences and **print** them\n",
    "        #keys = self.encode(sentences, idf)\n",
    "        #query = self.encode([s], idf)\n",
    "        list_score = [self.score(s,key_sent,idf) for key_sent in sentences]\n",
    "        index_best_sent = (np.argsort(list_score)[::-1][:K])\n",
    "        all_sent = []\n",
    "        print('Top-%s NNs of \\n\"%s\"\\n\\n' % (K, ' '.join(s)))\n",
    "        if max(list_score)>0:\n",
    "            for i,ind_best in enumerate(index_best_sent):\n",
    "                print('%s) %s' % (i + 1, ' '.join(sentences[ind_best])))\n",
    "                all_sent.append(sentences[ind_best])\n",
    "        else: #empty sentence or sentence with unknown words\n",
    "            print 'The sentence given as input doesn t contains words that are present in the loaded vocabulary'\n",
    "        return all_sent\n",
    "\n",
    "    def score(self, s1, s2, idf=False):\n",
    "        # cosine similarity: use   np.dot  and  np.linalg.norm\n",
    "        emb2 = self.encode([s2], idf)\n",
    "        emb1 = self.encode([s1], idf)\n",
    "        if ((np.linalg.norm(emb1)!=0) and ((np.linalg.norm(emb2)!=0))):\n",
    "            return emb1.dot(emb2.T)/(np.linalg.norm(emb1)*np.linalg.norm(emb2))\n",
    "        else: #if an embedding as a zero vector\n",
    "            return 0\n",
    "                                           \n",
    "    def build_idf(self, sentences):\n",
    "        # build the idf dictionary: associate each word to its idf value\n",
    "        idf = {}\n",
    "        for sent in sentences:\n",
    "            for w in set(sent):\n",
    "                idf[w] = idf.get(w, 0) + 1        \n",
    "        for w in idf:\n",
    "            idf[w] = max(1, np.log10(len(sentences) / (idf[w])))\n",
    "        return idf"
   ]
  },
  {
   "cell_type": "code",
   "execution_count": 192,
   "metadata": {},
   "outputs": [
    {
     "name": "stdout",
     "output_type": "stream",
     "text": [
      "Loaded 5000 pretrained word vectors\n",
      "Top-5 NNs of \n",
      "\"1 smiling african american boy .\"\n",
      "\n",
      "\n",
      "1) 1 smiling african american boy .\n",
      "2) blond boy waterskiing .\n",
      "3) a boy jumps .\n",
      "4) a boy jumps .\n",
      "5) a boy smiles underwater .\n",
      "[[ 0.60894451]]\n",
      "Top-5 NNs of \n",
      "\"1 smiling african american boy .\"\n",
      "\n",
      "\n",
      "1) 1 smiling african american boy .\n",
      "2) 5 women and 1 man are smiling for the camera .\n",
      "3) a man rides a 4 wheeler in the desert .\n",
      "4) 3 males and 1 woman enjoying a sporting event\n",
      "5) a man in black is juggling 3 flamed bottles .\n",
      "[[ 0.59651552]]\n"
     ]
    }
   ],
   "source": [
    "w2v = Word2vec(os.path.join(PATH_TO_DATA, 'crawl-300d-200k.vec'), nmax=5000)\n",
    "s2v = BoV(w2v)\n",
    "\n",
    "# Load sentences in \"PATH_TO_DATA/sentences.txt\"\n",
    "\n",
    "with open(os.path.join(PATH_TO_DATA,'sentences.txt')) as f:\n",
    "    sentences = f.readlines()\n",
    "\n",
    "sentences = [sent.split() for sent in sentences]\n",
    "# Build idf scores for each word\n",
    "idf = {} if False else s2v.build_idf(sentences)\n",
    "\n",
    "# You will be evaluated on the output of the following:\n",
    "s2v.most_similar('' if not sentences else sentences[10], sentences)  # BoV-mean\n",
    "print(s2v.score('' if not sentences else sentences[7], '' if not sentences else sentences[13]))\n",
    "\n",
    "s2v.most_similar('' if not sentences else sentences[10], sentences, idf)  # BoV-idf\n",
    "print(s2v.score('' if not sentences else sentences[7], '' if not sentences else sentences[13], idf))"
   ]
  },
  {
   "cell_type": "markdown",
   "metadata": {},
   "source": [
    "# 2) Multilingual (English-French) word embeddings"
   ]
  },
  {
   "cell_type": "markdown",
   "metadata": {},
   "source": [
    "Let's consider a bilingual dictionary of size V_a (e.g French-English).\n",
    "\n",
    "Let's define **X** and **Y** the **French** and **English** matrices.\n",
    "\n",
    "They contain the embeddings associated to the words in the bilingual dictionary.\n",
    "\n",
    "We want to find a **mapping W** that will project the source word space (e.g French) to the target word space (e.g English).\n",
    "\n",
    "Procrustes : **W\\* = argmin || W.X - Y ||  s.t  W^T.W = Id**\n",
    "has a closed form solution:\n",
    "**W = U.V^T  where  U.Sig.V^T = SVD(Y.X^T)**\n",
    "\n",
    "In what follows, you are asked to: "
   ]
  },
  {
   "cell_type": "code",
   "execution_count": 6,
   "metadata": {},
   "outputs": [
    {
     "name": "stdout",
     "output_type": "stream",
     "text": [
      "Loaded 50000 pretrained word vectors\n",
      "Loaded 50000 pretrained word vectors\n"
     ]
    }
   ],
   "source": [
    "# 1 - Download and load 50k first vectors of\n",
    "#     https://s3-us-west-1.amazonaws.com/fasttext-vectors/wiki.en.vec\n",
    "#     https://s3-us-west-1.amazonaws.com/fasttext-vectors/wiki.fr.vec\n",
    "\n",
    "w2v_eng = Word2vec(os.path.join(PATH_TO_DATA, 'wiki.en.vec'), nmax=50000)\n",
    "w2v_fr = Word2vec(os.path.join(PATH_TO_DATA, 'wiki.fr.vec'), nmax=50000)\n",
    "\n",
    "\n",
    "\n"
   ]
  },
  {
   "cell_type": "code",
   "execution_count": 7,
   "metadata": {
    "collapsed": true
   },
   "outputs": [],
   "source": [
    "# 2 - Get words that appear in both vocabs (= identical character strings)\n",
    "#     Use it to create the matrix X and Y (of aligned embeddings for these words)\n",
    "\n",
    "words_in_both_vocab = [w for w in w2v_eng.word2vec if w in w2v_fr.word2vec]\n",
    "X = np.vstack([w2v_eng.word2vec[w] for w in words_in_both_vocab])\n",
    "Y = np.vstack([w2v_fr.word2vec[w] for w in words_in_both_vocab])\n"
   ]
  },
  {
   "cell_type": "code",
   "execution_count": 8,
   "metadata": {
    "collapsed": true
   },
   "outputs": [],
   "source": [
    "# 3 - Solve the Procrustes using the scipy package and: scipy.linalg.svd() and get the optimal W\n",
    "#     Now W*French_vector is in the same space as English_vector\n",
    "\n",
    "# TYPE CODE HERE\n",
    "import scipy.linalg as la\n",
    "\n",
    "X = X[:100]\n",
    "Y = Y[:100]\n",
    "U, s, Vh = la.svd(Y.dot(X.T))\n",
    "W = U.dot(Vh)\n"
   ]
  },
  {
   "cell_type": "code",
   "execution_count": 34,
   "metadata": {},
   "outputs": [
    {
     "data": {
      "image/png": "[encoded data removed]",
      "text/plain": [
       "<matplotlib.figure.Figure at 0x7eff49fe2a50>"
      ]
     },
     "metadata": {},
     "output_type": "display_data"
    },
    {
     "data": {
      "image/png": "[encoded data removed]",
      "text/plain": [
       "<matplotlib.figure.Figure at 0x7eff49fcba10>"
      ]
     },
     "metadata": {},
     "output_type": "display_data"
    }
   ],
   "source": [
    "# 4 - After alignment with W, give examples of English nearest neighbors of some French words (and vice versa)\n",
    "#     You will be evaluated on that part and the code above\n",
    "\n",
    "# TYPE CODE HERE\n",
    "import scipy.linalg as la\n",
    "from sklearn.decomposition import PCA\n",
    "import matplotlib.pyplot as plt\n",
    "\n",
    "%matplotlib inline  \n",
    "\n",
    "#I have build a full class for this part in order to have a modular architecture\n",
    "\n",
    "class BilingualWord2Vec:\n",
    "    #Class that allows to compute and visualize the alignement from one class to another one\n",
    "    def __init__(self, w2v_1,w2v_2):\n",
    "        self.w2v_lang_1 = w2v_1\n",
    "        self.w2v_lang_2 = w2v_2\n",
    "        \n",
    "    def build_alignement(self,max_size):\n",
    "        #Solve the Procrustes probelm from language 1 to language 2 and give the optimal alinement matrix\n",
    "        words_in_both_vocab = [w for w in self.w2v_lang_1.word2vec if w in self.w2v_lang_2.word2vec]\n",
    "        words_in_both_vocab = words_in_both_vocab[:max_size]\n",
    "        X = np.vstack([self.w2v_lang_1.word2vec[w] for w in words_in_both_vocab]).T\n",
    "        Y = np.vstack([self.w2v_lang_2.word2vec[w] for w in words_in_both_vocab]).T\n",
    "        \n",
    "        U, s, Vh = la.svd(Y.dot(X.T))\n",
    "        return U.dot(Vh)\n",
    "    \n",
    "    def mostsimilarother_lang(self,word,W_alignement,K=5,lang_input = 1,lang_output=2):\n",
    "        #word : input word\n",
    "        #W_alignement : alignement from input word to output\n",
    "        #K: number of nearest neightbor\n",
    "        #lang_input: input language\n",
    "        #lang_output: output language (similar words language)\n",
    "        if lang_input == 1: #settings in order to let the choice of input and output language\n",
    "            word2vec_1 = self.w2v_lang_1.word2vec\n",
    "        else:\n",
    "            word2vec_1 = self.w2v_lang_2.word2vec\n",
    "        \n",
    "        if lang_output == 1:  #settings in order to let the choice of input and output language\n",
    "            word2vec_2 = self.w2v_lang_1.word2vec\n",
    "        else:\n",
    "            word2vec_2 = self.w2v_lang_2.word2vec\n",
    "            \n",
    "        query = W_alignement.dot(word2vec_1[word]) if word in word2vec_1 else 0 #projection in output space\n",
    "        keys = word2vec_2.values()\n",
    "        \n",
    "        list_score = [self.score(query,key) for key in keys]\n",
    "        index_best_words = (np.argsort(list_score)[::-1][:K])\n",
    "        \n",
    "        return np.array(word2vec_2.keys())[index_best_words] #return K most similar words\n",
    "\n",
    "    def score(self, emb1, emb2):\n",
    "        # cosine similarity: np.dot  -  np.linalg.norm\n",
    "        if ((np.linalg.norm(emb1)!=0) and ((np.linalg.norm(emb2)!=0))):\n",
    "            return emb1.dot(emb2.T)/(np.linalg.norm(emb1)*np.linalg.norm(emb2))\n",
    "        else:\n",
    "            return 0\n",
    "        \n",
    "    def plotsimilarwordother_lang(self,word,W_alignement,pca,K=5,lang_input = 1,lang_output=2):\n",
    "        #This function plots the word given as input in the output space embedding given the alignement matrix\n",
    "        #It is inspire from the TP1\n",
    "        #word : input word\n",
    "        #W_alignement : alignement from input word to output\n",
    "        #K: number of nearest neightbor\n",
    "        #lang_input: input language\n",
    "        #lang_output: output language (similar words language)\n",
    "        if lang_input == 1:  #settings in order to let the choice of input and output language\n",
    "            word2vec_1 = self.w2v_lang_1.word2vec\n",
    "        else:\n",
    "            word2vec_1 = self.w2v_lang_2.word2vec\n",
    "        \n",
    "        if lang_output == 1:  #settings in order to let the choice of input and output language\n",
    "            word2vec_2 = self.w2v_lang_1.word2vec\n",
    "        else:\n",
    "            word2vec_2 = self.w2v_lang_2.word2vec\n",
    "            \n",
    "            \n",
    "        arr = np.empty((0,word2vec_2.values()[0].shape[0]), dtype='f')\n",
    "        word_labels = [word]\n",
    "        # get close words\n",
    "        close_words = self.mostsimilarother_lang(word,W_alignement,K,lang_input,lang_output)\n",
    "        # add the vector for each of the closest words to the array\n",
    "        pos_word = W_alignement.dot(word2vec_1[word]) if word in word2vec_1 else np.zeros(word2vec_2.values()[0].shape)\n",
    "        arr = np.append(arr, np.array([pos_word]), axis=0)\n",
    "        for wrd_score in close_words:\n",
    "            wrd_vector = word2vec_2[wrd_score]\n",
    "            word_labels.append(wrd_score)\n",
    "            arr = np.append(arr, np.array([wrd_vector]), axis=0)\n",
    "\n",
    "        # find tsne coords for 2 dimensions\n",
    "        np.set_printoptions(suppress=True)\n",
    "        Y = pca.transform(arr)\n",
    "\n",
    "        x_coords = Y[:, 0]\n",
    "        y_coords = Y[:, 1]\n",
    "        # display scatter plot\n",
    "        plt.figure(figsize=(8, 6), dpi=80)\n",
    "        plt.scatter(x_coords, y_coords)\n",
    "\n",
    "        for label, x, y in zip(word_labels, x_coords, y_coords):\n",
    "            plt.annotate(label, xy=(x, y), xytext=(0, 0), textcoords='offset points', fontsize=12)\n",
    "        plt.xlim(x_coords.min()-0.2, x_coords.max()+0.2)\n",
    "        plt.ylim(y_coords.min()-0.2, y_coords.max()+0.2)\n",
    "        plt.title('Nearest neighbors visualization of the word \"%s\"' % word)\n",
    "\n",
    "        plt.show()\n",
    "        \n",
    "biw2vec = BilingualWord2Vec(w2v_eng,w2v_fr)\n",
    "W = biw2vec.build_alignement(19000) \n",
    "pca = PCA(n_components=2)\n",
    "pca.fit(np.array(biw2vec.w2v_lang_2.word2vec.values()))\n",
    "biw2vec.plotsimilarwordother_lang('cat',W,pca,K=10) #test with the english word cat\n",
    "biw2vec.plotsimilarwordother_lang('chien',W.T,pca,K=10,lang_input=2,lang_output=1) #test with the french word cat\n",
    "\n",
    "\n"
   ]
  },
  {
   "cell_type": "markdown",
   "metadata": {},
   "source": [
    "If you want to dive deeper on this subject: https://github.com/facebookresearch/MUSE"
   ]
  },
  {
   "cell_type": "markdown",
   "metadata": {},
   "source": [
    "# 3) Sentence classification with BoV and scikit-learn"
   ]
  },
  {
   "cell_type": "code",
   "execution_count": 7,
   "metadata": {},
   "outputs": [],
   "source": [
    "# 1 - Load train/dev/test of Stanford Sentiment TreeBank (SST)\n",
    "#     (https://nlp.stanford.edu/~socherr/EMNLP2013_RNTN.pdf)\n",
    "\n",
    "def read_training(file_path):\n",
    "    #This function allows to read the SST training file\n",
    "    with open(file_path,'r') as f:\n",
    "        lines = f.readlines()\n",
    "    y_train= [int(line[0]) for line in lines] \n",
    "    x_train= [line[2:].split() for line in lines]\n",
    "    return x_train,y_train\n",
    "\n",
    "def read_test(file_path):\n",
    "    #This function allows to read the SST test file\n",
    "    with open(file_path,'r') as f:\n",
    "        lines = f.readlines()\n",
    "    x_test = [line.split() for line in lines]\n",
    "    return x_test\n",
    "\n",
    "x_train,y_train = read_training(os.path.join(PATH_TO_DATA,'SST','stsa.fine.train'))\n",
    "x_dev,y_dev = read_training(os.path.join(PATH_TO_DATA,'SST','stsa.fine.dev'))\n",
    "x_test = read_test(os.path.join(PATH_TO_DATA,'SST','stsa.fine.test.X'))"
   ]
  },
  {
   "cell_type": "code",
   "execution_count": 49,
   "metadata": {},
   "outputs": [
    {
     "name": "stdout",
     "output_type": "stream",
     "text": [
      "Loaded 50000 pretrained word vectors\n"
     ]
    }
   ],
   "source": [
    "# 2 - Encode sentences with the BoV model above\n",
    "w2v = Word2vec(os.path.join(PATH_TO_DATA, 'wiki.en.vec'), nmax=50000)\n",
    "s2v = BoV(w2v)\n",
    "\n",
    "idf = {} if False else s2v.build_idf(x_train+x_dev+x_test)\n",
    "\n",
    "x_train_encode = s2v.encode(x_train)\n",
    "\n",
    "x_dev_encode = s2v.encode(x_dev)\n",
    "\n",
    "x_test_encode = s2v.encode(x_test)\n",
    "\n",
    "x_train_encode_idf = s2v.encode(x_train,idf)\n",
    "\n",
    "x_dev_encode_idf = s2v.encode(x_dev,idf)\n",
    "\n",
    "\n",
    "# TYPE CODE HERE"
   ]
  },
  {
   "cell_type": "code",
   "execution_count": 52,
   "metadata": {},
   "outputs": [
    {
     "name": "stdout",
     "output_type": "stream",
     "text": [
      "Precision sur le train set 0.455407303371\n",
      "Precision sur le dev set 0.406902815622\n",
      "Precision sur le train set idf 0.46172752809\n",
      "Precision sur le dev set idf  0.384196185286\n"
     ]
    }
   ],
   "source": [
    "# 3 - Learn Logistic Regression on top of sentence embeddings using scikit-learn\n",
    "#     (consider tuning the L2 regularization on the dev set)\n",
    "from sklearn.linear_model import LogisticRegression\n",
    "from sklearn.metrics import accuracy_score\n",
    "\n",
    "lr = LogisticRegression(C= 0.7,max_iter=1000,tol=1e-10)\n",
    "lr.fit(x_train_encode,y_train)\n",
    "prediction_dev = lr.predict(x_dev_encode)\n",
    "prediction_train = lr.predict(x_train_encode)\n",
    "\n",
    "lr_idf = LogisticRegression(C= 0.5,max_iter=1000,tol=1e-10)\n",
    "lr_idf.fit(x_train_encode_idf,y_train)\n",
    "prediction_dev_idf = lr_idf.predict(x_dev_encode_idf)\n",
    "prediction_train_idf = lr_idf.predict(x_train_encode_idf)\n",
    "\n",
    "\n",
    "print 'Precision sur le train set', accuracy_score(y_train,prediction_train)\n",
    "print 'Precision sur le dev set', accuracy_score(y_dev,prediction_dev)\n",
    "\n",
    "\n",
    "print 'Precision sur le train set idf', accuracy_score(y_train,prediction_train_idf)\n",
    "print 'Precision sur le dev set idf ', accuracy_score(y_dev,prediction_dev_idf)\n"
   ]
  },
  {
   "cell_type": "code",
   "execution_count": 74,
   "metadata": {
    "collapsed": true
   },
   "outputs": [],
   "source": [
    "# 4 - Produce 2210 predictions for the test set (in the same order). One line = one prediction (=0,1,2,3,4).\n",
    "#     Attach the output file \"logreg_bov_y_test_sst.txt\" to your deliverable.\n",
    "#     You will be evaluated on the results of the test set.\n",
    "\n",
    "def write_submission(path_output,prediction):\n",
    "    #function that write the submission\n",
    "    lines = '\\n'.join([str(p) for p in prediction])\n",
    "    with open(path_output,'w') as f:\n",
    "        f.writelines(lines)\n",
    "\n",
    "    \n",
    "\n",
    "prediction_test = lr.predict(x_test_encode)\n",
    "write_submission(os.path.join('.',r'logreg_bov_y_test_sst.txt'),prediction_test)\n"
   ]
  },
  {
   "cell_type": "code",
   "execution_count": 35,
   "metadata": {},
   "outputs": [
    {
     "name": "stdout",
     "output_type": "stream",
     "text": [
      "Random Forest Precision sur le train set 0.998595505618\n",
      "Random Forest Precision sur le dev set 0.36421435059\n",
      "Random Forest Precision sur le train set idf 0.998595505618\n",
      "Random Forest Precision sur le dev set idf 0.348773841962\n",
      "XGBoost Precision sur le train set 0.818352059925\n",
      "XGBoost  Precision sur le dev set 0.380563124432\n",
      "XGBoost Precision sur le train set idf 0.677200374532\n",
      "XGBoost  Precision sur le dev set idf 0.363306085377\n",
      "LGBM Precision sur le train set 0.694054307116\n",
      "LGBM  Precision sur le dev set 0.369663941871\n",
      "LGBM Precision sur le train set idf 0.694054307116\n",
      "LGBM  Precision sur le dev set idf 0.369663941871\n"
     ]
    }
   ],
   "source": [
    "# BONUS!\n",
    "# 5 - Try to improve performance with another classifier\n",
    "#     Attach the output file \"XXX_bov_y_test_sst.txt\" to your deliverable (where XXX = the name of the classifier)\n",
    "\n",
    "from sklearn.ensemble import RandomForestClassifier\n",
    "from xgboost import XGBClassifier\n",
    "from lightgbm import LGBMClassifier\n",
    "\n",
    "rf_classifier = RandomForestClassifier(n_estimators=100)\n",
    "rf_classifier.fit(x_train_encode,y_train) #No extra regularization, bagging is enough in general\n",
    "prediction_dev_rf = rf_classifier.predict(x_dev_encode)\n",
    "prediction_train_rf = rf_classifier.predict(x_train_encode)\n",
    "\n",
    "\n",
    "rf_classifier_idf = RandomForestClassifier(n_estimators=100)\n",
    "rf_classifier_idf.fit(x_train_encode_idf,y_train) #No extra regularization, bagging is enough in general\n",
    "prediction_dev_rf_idf = rf_classifier_idf.predict(x_dev_encode_idf)\n",
    "prediction_train_rf_idf = rf_classifier_idf.predict(x_train_encode_idf)\n",
    "\n",
    "\n",
    "print 'Random Forest Precision sur le train set', accuracy_score(y_train,prediction_train_rf)\n",
    "print 'Random Forest Precision sur le dev set', accuracy_score(y_dev,prediction_dev_rf)\n",
    "\n",
    "print 'Random Forest Precision sur le train set idf', accuracy_score(y_train,prediction_train_rf_idf)\n",
    "print 'Random Forest Precision sur le dev set idf', accuracy_score(y_dev,prediction_dev_rf_idf)\n",
    "\n",
    "\n",
    "xgb_classifier = XGBClassifier(max_depth=3,n_estimators=300,reg_lambda=1) #with early stopping based on val set\n",
    "xgb_classifier.fit(x_train_encode,y_train,verbose=False,early_stopping_rounds=30,eval_metric='mlogloss',eval_set=[(x_train_encode,y_train),(x_dev_encode,y_dev)])\n",
    "# TYPE CODE HERE\n",
    "prediction_dev_xgb = xgb_classifier.predict(x_dev_encode)\n",
    "prediction_train_xgb = xgb_classifier.predict(x_train_encode)\n",
    "\n",
    "xgb_classifier_idf = XGBClassifier(max_depth=3,n_estimators=300,reg_lambda=1) #with early stopping based on val set\n",
    "xgb_classifier_idf.fit(x_train_encode_idf,y_train,verbose=False,early_stopping_rounds=30,eval_metric='mlogloss',eval_set=[(x_train_encode,y_train),(x_dev_encode,y_dev)])\n",
    "# TYPE CODE HERE\n",
    "prediction_dev_xgb_idf = xgb_classifier_idf.predict(x_dev_encode_idf)\n",
    "prediction_train_xgb_idf = xgb_classifier_idf.predict(x_train_encode_idf)\n",
    "\n",
    "\n",
    "print 'XGBoost Precision sur le train set', accuracy_score(y_train,prediction_train_xgb)\n",
    "print 'XGBoost  Precision sur le dev set', accuracy_score(y_dev,prediction_dev_xgb)\n",
    "\n",
    "print 'XGBoost Precision sur le train set idf', accuracy_score(y_train,prediction_train_xgb_idf)\n",
    "print 'XGBoost  Precision sur le dev set idf', accuracy_score(y_dev,prediction_dev_xgb_idf)\n",
    "\n",
    "\n",
    "\n",
    "lgb_classifier = LGBMClassifier(max_depth=3,n_estimators=300,reg_lambda=1) #with early stopping based on val set\n",
    "lgb_classifier.fit(x_train_encode,y_train,verbose=False,early_stopping_rounds=30,eval_metric='multi_logloss',eval_set=[(x_train_encode,y_train),(x_dev_encode,y_dev)])\n",
    "# TYPE CODE HERE\n",
    "prediction_dev_lgbm = lgb_classifier.predict(x_dev_encode)\n",
    "prediction_train_lgbm = lgb_classifier.predict(x_train_encode)\n",
    "\n",
    "lgb_classifier_idf = LGBMClassifier(max_depth=3,n_estimators=300,reg_lambda=1) #with early stopping based on val set\n",
    "lgb_classifier_idf.fit(x_train_encode_idf,y_train,verbose=False,early_stopping_rounds=30,eval_metric='multi_logloss',eval_set=[(x_train_encode,y_train),(x_dev_encode,y_dev)])\n",
    "# TYPE CODE HERE\n",
    "prediction_dev_lgbm_idf = lgb_classifier_idf.predict(x_dev_encode_idf)\n",
    "prediction_train_lgbm_idf = lgb_classifier_idf.predict(x_train_encode_idf)\n",
    "\n",
    "print 'LGBM Precision sur le train set', accuracy_score(y_train,prediction_train_lgbm_idf)\n",
    "print 'LGBM  Precision sur le dev set', accuracy_score(y_dev,prediction_dev_lgbm_idf)\n",
    "\n",
    "print 'LGBM Precision sur le train set idf', accuracy_score(y_train,prediction_train_lgbm_idf)\n",
    "print 'LGBM  Precision sur le dev set idf', accuracy_score(y_dev,prediction_dev_lgbm_idf)\n",
    "\n",
    "#I tried plenty of classifiers but anyone is performing really better than the basic logestic regression\n"
   ]
  },
  {
   "cell_type": "markdown",
   "metadata": {},
   "source": [
    "# 4) Sentence classification with LSTMs in Keras"
   ]
  },
  {
   "cell_type": "markdown",
   "metadata": {},
   "source": [
    "## 4.1 - Preprocessing"
   ]
  },
  {
   "cell_type": "code",
   "execution_count": 8,
   "metadata": {},
   "outputs": [
    {
     "name": "stderr",
     "output_type": "stream",
     "text": [
      "Using TensorFlow backend.\n"
     ]
    }
   ],
   "source": [
    "import keras"
   ]
  },
  {
   "cell_type": "code",
   "execution_count": 9,
   "metadata": {
    "collapsed": true
   },
   "outputs": [],
   "source": [
    "# 1 - Load train/dev/test sets of SST\n",
    "PATH_TO_DATA = \"./data/\"\n",
    "\n",
    "x_train,y_train = read_training(os.path.join(PATH_TO_DATA,'SST','stsa.fine.train'))\n",
    "x_dev,y_dev = read_training(os.path.join(PATH_TO_DATA,'SST','stsa.fine.dev'))\n",
    "x_test = read_test(os.path.join(PATH_TO_DATA,'SST','stsa.fine.test.X'))"
   ]
  },
  {
   "cell_type": "code",
   "execution_count": 10,
   "metadata": {},
   "outputs": [
    {
     "name": "stdout",
     "output_type": "stream",
     "text": [
      "(8544, 5)\n"
     ]
    }
   ],
   "source": [
    "# 2 - Transform text to integers using keras.preprocessing.text.one_hot function\n",
    "#     https://keras.io/preprocessing/text/\n",
    "\n",
    "# TYPE CODE HERE\n",
    "from keras.preprocessing import text\n",
    "from keras.utils import to_categorical\n",
    "\n",
    "list_w = set([w for sent in (x_train+x_dev+x_test) for w in sent ])\n",
    "nb_words = len(list_w)\n",
    "\n",
    "\n",
    "x_train_oneh = [text.one_hot(' '.join(x),nb_words) for x in x_train]\n",
    "x_dev_oneh = [text.one_hot(' '.join(x),nb_words) for x in x_dev]\n",
    "x_test_oneh = [text.one_hot(' '.join(x),nb_words) for x in x_test]\n",
    "\n",
    "\n",
    "y_train = to_categorical(y_train)\n",
    "y_val = to_categorical(y_dev)\n",
    "print(y_train.shape)"
   ]
  },
  {
   "cell_type": "markdown",
   "metadata": {},
   "source": [
    "**Padding input data**\n",
    "\n",
    "Models in Keras (and elsewhere) take batches of sentences of the same length as input. It is because Deep Learning framework have been designed to handle well Tensors, which are particularly suited for fast computation on the GPU.\n",
    "\n",
    "Since sentences have different sizes, we \"pad\" them. That is, we add dummy \"padding\" tokens so that they all have the same length.\n",
    "\n",
    "The input to a Keras model thus has this size : (batchsize, maxseqlen) where maxseqlen is the maximum length of a sentence in the batch."
   ]
  },
  {
   "cell_type": "code",
   "execution_count": 11,
   "metadata": {
    "collapsed": true
   },
   "outputs": [],
   "source": [
    "# 3 - Pad your sequences using keras.preprocessing.sequence.pad_sequences\n",
    "#     https://keras.io/preprocessing/sequence/\n",
    "\n",
    "# TYPE CODE HERE\n",
    "from keras.preprocessing.sequence import pad_sequences\n",
    "\n",
    "\n",
    "x_train_pad = pad_sequences(x_train_oneh, maxlen=30)\n",
    "x_val_pad = pad_sequences(x_dev_oneh, maxlen=30)\n",
    "x_test_pad = pad_sequences(x_test_oneh,maxlen=30)"
   ]
  },
  {
   "cell_type": "markdown",
   "metadata": {},
   "source": [
    "## 4.2 - Design and train your model"
   ]
  },
  {
   "cell_type": "code",
   "execution_count": 17,
   "metadata": {},
   "outputs": [
    {
     "name": "stderr",
     "output_type": "stream",
     "text": [
      "/home/ratnamogan/anaconda3/envs/TD_1/lib/python2.7/site-packages/ipykernel_launcher.py:20: UserWarning: Update your `LSTM` call to the Keras 2 API: `LSTM(100, return_sequences=False, dropout=0.2, recurrent_dropout=0.2)`\n"
     ]
    }
   ],
   "source": [
    "# 4 - Design your encoder + classifier using keras.layers\n",
    "#     In Keras, Torch and other deep learning framework, we create a \"container\" which is the Sequential() module.\n",
    "#     Then we add components to this contained : the lookuptable, the LSTM, the classifier etc.\n",
    "#     All of these components are contained in the Sequential() and are trained together.\n",
    "\n",
    "\n",
    "# ADAPT CODE BELOW\n",
    "\n",
    "\n",
    "from keras.models import Sequential\n",
    "from keras.layers import Embedding, LSTM, Dense, Activation\n",
    "\n",
    "embed_dim  = 300  # word embedding dimension\n",
    "nhid       = 100  # number of hidden units in the LSTM\n",
    "vocab_size = nb_words  # size of the vocabulary\n",
    "n_classes  = 5\n",
    "\n",
    "model = Sequential()\n",
    "model.add(Embedding(vocab_size, embed_dim))\n",
    "model.add(LSTM(nhid, dropout_W=0.2, dropout_U=0.2,return_sequences=False))\n",
    "model.add(Dense(n_classes, activation='softmax'))\n"
   ]
  },
  {
   "cell_type": "code",
   "execution_count": 18,
   "metadata": {},
   "outputs": [
    {
     "name": "stdout",
     "output_type": "stream",
     "text": [
      "_________________________________________________________________\n",
      "Layer (type)                 Output Shape              Param #   \n",
      "=================================================================\n",
      "embedding_2 (Embedding)      (None, None, 300)         5861400   \n",
      "_________________________________________________________________\n",
      "lstm_2 (LSTM)                (None, 100)               160400    \n",
      "_________________________________________________________________\n",
      "dense_2 (Dense)              (None, 5)                 505       \n",
      "=================================================================\n",
      "Total params: 6,022,305\n",
      "Trainable params: 6,022,305\n",
      "Non-trainable params: 0\n",
      "_________________________________________________________________\n",
      "None\n"
     ]
    }
   ],
   "source": [
    "# 5 - Define your loss/optimizer/metrics\n",
    "\n",
    "# MODIFY CODE BELOW\n",
    "\n",
    "loss_classif     =  'categorical_crossentropy' # find the right loss for multi-class classification\n",
    "optimizer        =  'rmsprop' # find the right optimizer\n",
    "metrics_classif  =  ['accuracy']\n",
    "\n",
    "# Observe how easy (but blackboxed) this is in Keras\n",
    "model.compile(loss=loss_classif,\n",
    "              optimizer=optimizer,\n",
    "              metrics=metrics_classif)\n",
    "print(model.summary())"
   ]
  },
  {
   "cell_type": "code",
   "execution_count": 19,
   "metadata": {},
   "outputs": [
    {
     "name": "stdout",
     "output_type": "stream",
     "text": [
      "Train on 8544 samples, validate on 1101 samples\n",
      "Epoch 1/6\n",
      "8544/8544 [==============================] - 17s 2ms/step - loss: 1.5197 - acc: 0.3291 - val_loss: 1.4149 - val_acc: 0.3724\n",
      "Epoch 2/6\n",
      "8544/8544 [==============================] - 17s 2ms/step - loss: 1.2626 - acc: 0.4580 - val_loss: 1.3908 - val_acc: 0.3951\n",
      "Epoch 3/6\n",
      "8544/8544 [==============================] - 16s 2ms/step - loss: 1.0707 - acc: 0.5589 - val_loss: 1.4157 - val_acc: 0.3942\n",
      "Epoch 4/6\n",
      "8544/8544 [==============================] - 16s 2ms/step - loss: 0.9154 - acc: 0.6420 - val_loss: 1.5130 - val_acc: 0.3860\n",
      "Epoch 5/6\n",
      "8544/8544 [==============================] - 16s 2ms/step - loss: 0.7564 - acc: 0.7169 - val_loss: 1.6939 - val_acc: 0.3824\n",
      "Epoch 6/6\n",
      "8544/8544 [==============================] - 17s 2ms/step - loss: 0.6337 - acc: 0.7644 - val_loss: 1.9324 - val_acc: 0.3733\n",
      "['acc', 'loss', 'val_acc', 'val_loss']\n"
     ]
    },
    {
     "data": {
      "image/png": "[encoded data removed]",
      "text/plain": [
       "<matplotlib.figure.Figure at 0x7faf42a32510>"
      ]
     },
     "metadata": {},
     "output_type": "display_data"
    },
    {
     "data": {
      "image/png": "[encoded data removed]",
      "text/plain": [
       "<matplotlib.figure.Figure at 0x7faf428ff290>"
      ]
     },
     "metadata": {},
     "output_type": "display_data"
    }
   ],
   "source": [
    "# 6 - Train your model and find the best hyperparameters for your dev set\n",
    "#     you will be evaluated on the quality of your predictions on the test set\n",
    "\n",
    "# ADAPT CODE BELOW\n",
    "\n",
    "import matplotlib.pyplot as plt\n",
    "%matplotlib inline\n",
    "from keras.callbacks import ModelCheckpoint\n",
    "\n",
    "mcp1 = ModelCheckpoint('weights.best.hdf5', monitor=\"val_acc\",save_best_only=True, save_weights_only=False)\n",
    "\n",
    "bs = 64\n",
    "n_epochs = 6\n",
    "\n",
    "history = model.fit(x_train_pad, y_train, batch_size=bs, nb_epoch=n_epochs, validation_data=(x_val_pad, y_val), callbacks = [mcp1])\n",
    "\n",
    "print(history.history.keys())\n",
    "# summarize history for accuracy\n",
    "plt.plot(history.history['acc'])\n",
    "plt.plot(history.history['val_acc'])\n",
    "plt.title('model accuracy')\n",
    "plt.ylabel('accuracy')\n",
    "plt.xlabel('epoch')\n",
    "plt.legend(['train', 'test'], loc='upper left')\n",
    "\n",
    "plt.show()\n",
    "# summarize history for loss\n",
    "plt.plot(history.history['loss'])\n",
    "plt.plot(history.history['val_loss'])\n",
    "plt.title('model loss')\n",
    "plt.ylabel('loss')\n",
    "plt.xlabel('epoch')\n",
    "plt.legend(['train', 'test'], loc='upper left')\n",
    "plt.show()"
   ]
  },
  {
   "cell_type": "code",
   "execution_count": 21,
   "metadata": {},
   "outputs": [
    {
     "name": "stdout",
     "output_type": "stream",
     "text": [
      "4\n"
     ]
    }
   ],
   "source": [
    "# 7 - Generate your predictions on the test set using model.predict(x_test)\n",
    "#     https://keras.io/models/model/\n",
    "#     Log your predictions in a file (one line = one integer: 0,1,2,3,4)\n",
    "#     Attach the output file \"logreg_lstm_y_test_sst.txt\" to your deliverable.\n",
    "model = keras.models.load_model('weights.best.hdf5') #best score on dev 0.3951\n",
    "prediction_test_one_hot = model.predict(x_test_pad)\n",
    "prediction_test = [np.argmax(pred) for pred in prediction_test_one_hot]\n",
    "\n",
    "def write_submission(path_output,prediction):\n",
    "    #function that write the submission\n",
    "    lines = '\\n'.join([str(p) for p in prediction])\n",
    "    with open(path_output,'w') as f:\n",
    "        f.writelines(lines)\n",
    "\n",
    "    \n",
    "write_submission(os.path.join('.',r'logreg_lstm_y_test_sst.txt'),prediction_test)"
   ]
  },
  {
   "cell_type": "markdown",
   "metadata": {},
   "source": [
    "## 4.3 -- innovate !"
   ]
  },
  {
   "cell_type": "code",
   "execution_count": 70,
   "metadata": {},
   "outputs": [
    {
     "name": "stdout",
     "output_type": "stream",
     "text": [
      "Loaded 200000 pretrained word vectors\n"
     ]
    },
    {
     "name": "stderr",
     "output_type": "stream",
     "text": [
      "/home/ratnamogan/anaconda3/envs/TD_1/lib/python2.7/site-packages/ipykernel_launcher.py:37: UserWarning: Update your `LSTM` call to the Keras 2 API: `LSTM(50, return_sequences=False, dropout=0.3, recurrent_dropout=0.3)`\n"
     ]
    },
    {
     "name": "stdout",
     "output_type": "stream",
     "text": [
      "_________________________________________________________________\n",
      "Layer (type)                 Output Shape              Param #   \n",
      "=================================================================\n",
      "embedding_17 (Embedding)     (None, None, 300)         5861400   \n",
      "_________________________________________________________________\n",
      "bidirectional_15 (Bidirectio (None, 100)               140400    \n",
      "_________________________________________________________________\n",
      "dense_17 (Dense)             (None, 5)                 505       \n",
      "=================================================================\n",
      "Total params: 6,002,305\n",
      "Trainable params: 6,002,305\n",
      "Non-trainable params: 0\n",
      "_________________________________________________________________\n",
      "None\n",
      "Train on 8544 samples, validate on 1101 samples\n",
      "Epoch 1/8\n",
      "8544/8544 [==============================] - 25s 3ms/step - loss: 1.5201 - acc: 0.3246 - val_loss: 1.4217 - val_acc: 0.3769\n",
      "Epoch 2/8\n",
      "8544/8544 [==============================] - 20s 2ms/step - loss: 1.2770 - acc: 0.4607 - val_loss: 1.3668 - val_acc: 0.3915\n",
      "Epoch 3/8\n",
      "8544/8544 [==============================] - 19s 2ms/step - loss: 1.0795 - acc: 0.5571 - val_loss: 1.4270 - val_acc: 0.3797\n",
      "Epoch 4/8\n",
      "8544/8544 [==============================] - 19s 2ms/step - loss: 0.9113 - acc: 0.6421 - val_loss: 1.5445 - val_acc: 0.3742\n",
      "Epoch 5/8\n",
      "8544/8544 [==============================] - 19s 2ms/step - loss: 0.7610 - acc: 0.7186 - val_loss: 1.6268 - val_acc: 0.3724\n",
      "Epoch 6/8\n",
      "8544/8544 [==============================] - 19s 2ms/step - loss: 0.6313 - acc: 0.7719 - val_loss: 1.8250 - val_acc: 0.3806\n",
      "Epoch 7/8\n",
      "8544/8544 [==============================] - 20s 2ms/step - loss: 0.5380 - acc: 0.8091 - val_loss: 2.0121 - val_acc: 0.3370\n",
      "Epoch 8/8\n",
      "8544/8544 [==============================] - 19s 2ms/step - loss: 0.4628 - acc: 0.8390 - val_loss: 2.0753 - val_acc: 0.3606\n",
      "Precision sur le train set 0.566830524345\n",
      "Precision sur le dev set 0.396911898274\n"
     ]
    }
   ],
   "source": [
    "# 8 - Open question: find a model that is better on your dev set\n",
    "#     (e.g: use a 1D ConvNet, use a better classifier, pretrain your lookup tables ..)\n",
    "#     you will get point if the results on the test set are better: be careful of not overfitting your dev set too much..\n",
    "#     Attach the output file \"XXX_XXX_y_test_sst.txt\" to your deliverable.\n",
    "\n",
    "# TYPE CODE HERE\n",
    "\n",
    "from keras.models import Sequential\n",
    "from keras.layers import Embedding, LSTM, Dense, Activation,Dropout,Conv1D,Flatten\n",
    "from keras.layers import Bidirectional \n",
    "from keras.optimizers import RMSprop\n",
    "from keras import backend as K\n",
    "\n",
    "embed_dim  = 300  # word embedding dimension\n",
    "nhid       = 50  # number of hidden units in the LSTM\n",
    "vocab_size = nb_words  # size of the vocabulary\n",
    "n_classes  = 5\n",
    "\n",
    "list_w = set([w for sent in (x_train+x_dev+x_test) for w in sent ])\n",
    "\n",
    "mcp1 = ModelCheckpoint('weights.best_innovate.hdf5', monitor=\"val_acc\",save_best_only=True, save_weights_only=False)\n",
    "\n",
    "#Create the pretrained embedding matrix\n",
    "\n",
    "embedding_matrix = np.zeros((vocab_size, embed_dim))\n",
    "w2v = Word2vec(os.path.join(PATH_TO_DATA, 'crawl-300d-200k.vec'), nmax=200000)\n",
    "for w in list_w:\n",
    "    if w in w2v.word2vec:\n",
    "\n",
    "        index = w,text.one_hot(w,nb_words)\n",
    "        if len(index)==1:\n",
    "            id_w = text.one_hot(w,nb_words)[0]\n",
    "            embedding_matrix[id_w] = w2v.word2vec[w]\n",
    "\n",
    "model = Sequential()\n",
    "model.add(Embedding(vocab_size, embed_dim, weights=[embedding_matrix]))\n",
    "model.add(Bidirectional(LSTM(nhid, dropout_W=0.3, dropout_U=0.3,return_sequences=False))) #bidirectional layer\n",
    "model.add(Dense(n_classes, activation='softmax'))\n",
    "\n",
    "loss_classif     =  'categorical_crossentropy' # find the right loss for multi-class classification\n",
    "optimizer        =  RMSprop(lr=0.001,decay=0.00001) # find the right optimizer\n",
    "metrics_classif  =  ['accuracy']\n",
    "\n",
    "model.compile(loss=loss_classif,\n",
    "              optimizer=optimizer,\n",
    "              metrics=metrics_classif)\n",
    "print(model.summary())\n",
    "\n",
    "bs = 64\n",
    "n_epochs = 8\n",
    "\n",
    "history = model.fit(x_train_pad, y_train, batch_size=bs, nb_epoch=n_epochs, validation_data=(x_val_pad, y_val),callbacks = [mcp1])\n",
    "\n",
    "model = keras.models.load_model('weights.best_innovate.hdf5') #best score on dev 0.3915\n",
    "\n",
    "\n",
    "get_layer_output = K.function([model.layers[0].input,K.learning_phase()], [model.layers[1].output])\n",
    "layer_output_train = get_layer_output([x_train_pad, 0])[0]\n",
    "layer_output_dev = get_layer_output([x_val_pad, 0])[0]\n",
    "layer_output_test = get_layer_output([x_test_pad,0])[0]\n",
    "\n",
    "from sklearn.svm import SVC #use a svm on the last layer\n",
    "from sklearn.metrics import accuracy_score\n",
    "\n",
    "y_train_rf = np.argmax(y_train,axis=1)\n",
    "y_dev_ref = y_dev\n",
    "\n",
    "rf =SVC(C=0.3)\n",
    "rf.fit(layer_output_train,y_train_rf)\n",
    "prediction_dev = rf.predict(layer_output_dev)\n",
    "prediction_train = rf.predict(layer_output_train)\n",
    "prediction_test = rf.predict(layer_output_test)\n",
    "\n",
    "print 'Precision sur le train set', accuracy_score(y_train_rf,prediction_train)\n",
    "print 'Precision sur le dev set', accuracy_score(y_dev_ref,prediction_dev)\n",
    "\n",
    "write_submission(os.path.join('.',r'bidirectional_lstm_svm_y_test_sst.txt'),prediction_test)"
   ]
  }
 ],
 "metadata": {
  "kernelspec": {
   "display_name": "TD_1",
   "language": "python",
   "name": "td_1"
  },
  "language_info": {
   "codemirror_mode": {
    "name": "ipython",
    "version": 2
   },
   "file_extension": ".py",
   "mimetype": "text/x-python",
   "name": "python",
   "nbconvert_exporter": "python",
   "pygments_lexer": "ipython2",
   "version": "2.7.14"
  }
 },
 "nbformat": 4,
 "nbformat_minor": 1
}
